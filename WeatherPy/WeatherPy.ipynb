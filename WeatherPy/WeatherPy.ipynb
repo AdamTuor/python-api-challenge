{
 "cells": [
  {
   "cell_type": "markdown",
   "metadata": {},
   "source": [
    "# WeatherPy\n",
    "\n",
    "---\n",
    "\n",
    "## Starter Code to Generate Random Geographic Coordinates and a List of Cities"
   ]
  },
  {
   "cell_type": "code",
   "execution_count": 1,
   "metadata": {
    "scrolled": true
   },
   "outputs": [],
   "source": [
    "# Dependencies and Setup\n",
    "import matplotlib.pyplot as plt\n",
    "import pandas as pd\n",
    "import numpy as np\n",
    "import requests\n",
    "import time\n",
    "from scipy.stats import linregress\n",
    "\n",
    "# Impor the OpenWeatherMap API key\n",
    "from api_keys import weather_api_key\n",
    "\n",
    "# Import citipy to determine the cities based on latitude and longitude\n",
    "from citipy import citipy"
   ]
  },
  {
   "cell_type": "markdown",
   "metadata": {},
   "source": [
    "### Generate the Cities List by Using the `citipy` Library"
   ]
  },
  {
   "cell_type": "code",
   "execution_count": 2,
   "metadata": {},
   "outputs": [
    {
     "name": "stdout",
     "output_type": "stream",
     "text": [
      "Number of cities in the list: 586\n"
     ]
    }
   ],
   "source": [
    "# Empty list for holding the latitude and longitude combinations\n",
    "lat_lngs = []\n",
    "\n",
    "# Empty list for holding the cities names\n",
    "cities = []\n",
    "\n",
    "# Range of latitudes and longitudes\n",
    "lat_range = (-90, 90)\n",
    "lng_range = (-180, 180)\n",
    "\n",
    "# Create a set of random lat and lng combinations\n",
    "lats = np.random.uniform(lat_range[0], lat_range[1], size=1500)\n",
    "lngs = np.random.uniform(lng_range[0], lng_range[1], size=1500)\n",
    "lat_lngs = zip(lats, lngs)\n",
    "\n",
    "# Identify nearest city for each lat, lng combination\n",
    "for lat_lng in lat_lngs:\n",
    "    city = citipy.nearest_city(lat_lng[0], lat_lng[1]).city_name\n",
    "    \n",
    "    # If the city is unique, then add it to a our cities list\n",
    "    if city not in cities:\n",
    "        cities.append(city)\n",
    "\n",
    "# Print the city count to confirm sufficient count\n",
    "print(f\"Number of cities in the list: {len(cities)}\")"
   ]
  },
  {
   "cell_type": "markdown",
   "metadata": {},
   "source": [
    "---"
   ]
  },
  {
   "cell_type": "markdown",
   "metadata": {},
   "source": [
    "## Requirement 1: Create Plots to Showcase the Relationship Between Weather Variables and Latitude\n",
    "\n",
    "### Use the OpenWeatherMap API to retrieve weather data from the cities list generated in the started code"
   ]
  },
  {
   "cell_type": "code",
   "execution_count": 7,
   "metadata": {},
   "outputs": [
    {
     "name": "stdout",
     "output_type": "stream",
     "text": [
      "Beginning Data Retrieval     \n",
      "-----------------------------\n",
      "Processing Record 1 of Set 1 | busselton\n",
      "Processing Record 2 of Set 1 | rawson\n",
      "Processing Record 3 of Set 1 | tarakan\n",
      "Processing Record 4 of Set 1 | cidreira\n",
      "Processing Record 5 of Set 1 | rikitea\n",
      "Processing Record 6 of Set 1 | longyearbyen\n",
      "Processing Record 7 of Set 1 | carnarvon\n",
      "Processing Record 8 of Set 1 | wajir\n",
      "Processing Record 9 of Set 1 | hermanus\n",
      "Processing Record 10 of Set 1 | lompoc\n",
      "Processing Record 11 of Set 1 | safford\n",
      "Processing Record 12 of Set 1 | punta arenas\n",
      "Processing Record 13 of Set 1 | barrow\n",
      "Processing Record 14 of Set 1 | veraval\n",
      "Processing Record 15 of Set 1 | kununurra\n",
      "Processing Record 16 of Set 1 | barentsburg\n",
      "Processing Record 17 of Set 1 | bambous virieux\n",
      "Processing Record 18 of Set 1 | ushuaia\n",
      "Processing Record 19 of Set 1 | paamiut\n",
      "Processing Record 20 of Set 1 | upernavik\n",
      "Processing Record 21 of Set 1 | bredasdorp\n",
      "Processing Record 22 of Set 1 | sobolevo\n",
      "Processing Record 23 of Set 1 | tuktoyaktuk\n",
      "Processing Record 24 of Set 1 | avarua\n",
      "Processing Record 25 of Set 1 | viedma\n",
      "Processing Record 26 of Set 1 | novokuznetsk\n",
      "Processing Record 27 of Set 1 | east london\n",
      "Processing Record 28 of Set 1 | new norfolk\n",
      "Processing Record 29 of Set 1 | geraldton\n",
      "Processing Record 30 of Set 1 | lukovetskiy\n",
      "Processing Record 31 of Set 1 | marinette\n",
      "Processing Record 32 of Set 1 | saint anthony\n",
      "Processing Record 33 of Set 1 | monterey\n",
      "Processing Record 34 of Set 1 | bilma\n",
      "Processing Record 35 of Set 1 | palabuhanratu\n",
      "Processing Record 36 of Set 1 | mataura\n",
      "Processing Record 37 of Set 1 | ayan\n",
      "Processing Record 38 of Set 1 | khatanga\n",
      "Processing Record 39 of Set 1 | santa barbara\n",
      "Processing Record 40 of Set 1 | hobart\n",
      "Processing Record 41 of Set 1 | santa rosa\n",
      "Processing Record 42 of Set 1 | ixtapa\n",
      "Processing Record 43 of Set 1 | barra patuca\n",
      "Processing Record 44 of Set 1 | kavaratti\n",
      "Processing Record 45 of Set 1 | cape town\n",
      "Processing Record 46 of Set 1 | rawannawi\n",
      "Processing Record 47 of Set 1 | pevek\n",
      "Processing Record 48 of Set 1 | husavik\n",
      "Processing Record 49 of Set 1 | kerema\n",
      "Processing Record 50 of Set 1 | bathsheba\n",
      "Processing Record 0 of Set 2 | puerto ayora\n",
      "Processing Record 1 of Set 2 | tateyama\n",
      "Processing Record 2 of Set 2 | georgetown\n",
      "Processing Record 3 of Set 2 | belushya guba\n",
      "Processing Record 4 of Set 2 | macas\n",
      "City not found. Skipping...\n",
      "Processing Record 5 of Set 2 | dingle\n",
      "Processing Record 6 of Set 2 | tual\n",
      "Processing Record 7 of Set 2 | mar del plata\n",
      "Processing Record 8 of Set 2 | cap malheureux\n",
      "Processing Record 9 of Set 2 | arraial do cabo\n",
      "Processing Record 10 of Set 2 | naliya\n",
      "Processing Record 11 of Set 2 | kutum\n",
      "Processing Record 12 of Set 2 | mbandaka\n",
      "Processing Record 13 of Set 2 | san diego de la union\n",
      "Processing Record 14 of Set 2 | severnyy\n",
      "Processing Record 15 of Set 2 | saint-francois\n",
      "City not found. Skipping...\n",
      "Processing Record 16 of Set 2 | swan river\n",
      "Processing Record 17 of Set 2 | skagen\n",
      "Processing Record 18 of Set 2 | christiana\n",
      "Processing Record 19 of Set 2 | port alfred\n",
      "Processing Record 20 of Set 2 | cairns\n",
      "Processing Record 21 of Set 2 | belchatow\n",
      "Processing Record 22 of Set 2 | broome\n",
      "Processing Record 23 of Set 2 | north bend\n",
      "Processing Record 24 of Set 2 | qaanaaq\n",
      "Processing Record 25 of Set 2 | cabedelo\n",
      "Processing Record 26 of Set 2 | torbay\n",
      "Processing Record 27 of Set 2 | gopalpur\n",
      "Processing Record 28 of Set 2 | atuona\n",
      "Processing Record 29 of Set 2 | cam pha\n",
      "Processing Record 30 of Set 2 | ca mau\n",
      "Processing Record 31 of Set 2 | vilhena\n",
      "Processing Record 32 of Set 2 | albany\n",
      "Processing Record 33 of Set 2 | svetlaya\n",
      "Processing Record 34 of Set 2 | bluff\n",
      "Processing Record 35 of Set 2 | kolvereid\n",
      "Processing Record 36 of Set 2 | poli\n",
      "Processing Record 37 of Set 2 | amderma\n",
      "Processing Record 38 of Set 2 | havre-saint-pierre\n",
      "Processing Record 39 of Set 2 | port elizabeth\n",
      "Processing Record 40 of Set 2 | ambilobe\n",
      "Processing Record 41 of Set 2 | sinnamary\n",
      "Processing Record 42 of Set 2 | gharb\n",
      "Processing Record 43 of Set 2 | kodiak\n",
      "Processing Record 44 of Set 2 | illoqqortoormiut\n",
      "Processing Record 45 of Set 2 | college\n",
      "Processing Record 46 of Set 2 | sampit\n",
      "Processing Record 47 of Set 2 | esperance\n",
      "Processing Record 48 of Set 2 | artyk\n",
      "Processing Record 49 of Set 2 | tasiilaq\n",
      "Processing Record 0 of Set 3 | banjar\n",
      "Processing Record 1 of Set 3 | san patricio\n",
      "Processing Record 2 of Set 3 | ardabil\n",
      "Processing Record 3 of Set 3 | huarmey\n",
      "Processing Record 4 of Set 3 | castro\n",
      "Processing Record 5 of Set 3 | grakhovo\n",
      "Processing Record 6 of Set 3 | najran\n",
      "Processing Record 7 of Set 3 | san carlos de bariloche\n",
      "Processing Record 8 of Set 3 | fortuna\n",
      "Processing Record 9 of Set 3 | galle\n",
      "Processing Record 10 of Set 3 | vestmanna\n",
      "Processing Record 11 of Set 3 | bhayavadar\n",
      "Processing Record 12 of Set 3 | kaitangata\n",
      "Processing Record 13 of Set 3 | yellowknife\n",
      "Processing Record 14 of Set 3 | neiafu\n",
      "Processing Record 15 of Set 3 | catamarca\n",
      "Processing Record 16 of Set 3 | hithadhoo\n",
      "Processing Record 17 of Set 3 | victoria\n",
      "Processing Record 18 of Set 3 | lebu\n",
      "Processing Record 19 of Set 3 | clyde river\n",
      "Processing Record 20 of Set 3 | san quintin\n",
      "Processing Record 21 of Set 3 | kapaa\n",
      "Processing Record 22 of Set 3 | isangel\n",
      "Processing Record 23 of Set 3 | petropavlovsk-kamchatskiy\n",
      "Processing Record 24 of Set 3 | tuatapere\n",
      "Processing Record 25 of Set 3 | honningsvag\n",
      "Processing Record 26 of Set 3 | dubai\n",
      "Processing Record 27 of Set 3 | bengkulu\n",
      "Processing Record 28 of Set 3 | akyab\n",
      "Processing Record 29 of Set 3 | idritsa\n",
      "Processing Record 30 of Set 3 | richards bay\n",
      "Processing Record 31 of Set 3 | attawapiskat\n",
      "Processing Record 32 of Set 3 | vaitupu\n",
      "Processing Record 33 of Set 3 | touros\n",
      "Processing Record 34 of Set 3 | nikolayevsk-na-amure\n",
      "Processing Record 35 of Set 3 | rosetta\n",
      "Processing Record 36 of Set 3 | komsomolskiy\n",
      "Processing Record 37 of Set 3 | tessalit\n",
      "Processing Record 38 of Set 3 | ahipara\n",
      "Processing Record 39 of Set 3 | ribeira grande\n",
      "Processing Record 40 of Set 3 | norman wells\n",
      "Processing Record 41 of Set 3 | grand river south east\n",
      "Processing Record 42 of Set 3 | vaini\n",
      "Processing Record 43 of Set 3 | vostok\n",
      "Processing Record 44 of Set 3 | hobyo\n",
      "City not found. Skipping...\n",
      "Processing Record 45 of Set 3 | vardo\n",
      "Processing Record 46 of Set 3 | bandarbeyla\n",
      "Processing Record 47 of Set 3 | manyana\n",
      "Processing Record 48 of Set 3 | deming\n",
      "Processing Record 49 of Set 3 | wajima\n",
      "Processing Record 0 of Set 4 | juba\n",
      "Processing Record 1 of Set 4 | hilo\n",
      "Processing Record 2 of Set 4 | karratha\n",
      "Processing Record 3 of Set 4 | port lincoln\n",
      "Processing Record 4 of Set 4 | port macquarie\n",
      "Processing Record 5 of Set 4 | kesla\n",
      "Processing Record 6 of Set 4 | mehamn\n",
      "Processing Record 7 of Set 4 | vestmannaeyjar\n",
      "Processing Record 8 of Set 4 | den helder\n",
      "Processing Record 9 of Set 4 | cefalu\n",
      "Processing Record 10 of Set 4 | tigil\n",
      "Processing Record 11 of Set 4 | limbang\n",
      "Processing Record 12 of Set 4 | kon tum\n",
      "Processing Record 13 of Set 4 | jamestown\n",
      "Processing Record 14 of Set 4 | palmer\n",
      "Processing Record 15 of Set 4 | lubu\n",
      "Processing Record 16 of Set 4 | chunian\n",
      "Processing Record 17 of Set 4 | iralaya\n",
      "Processing Record 18 of Set 4 | tuy hoa\n",
      "Processing Record 19 of Set 4 | saint-pierre\n",
      "Processing Record 20 of Set 4 | kuryk\n",
      "Processing Record 21 of Set 4 | taolanaro\n",
      "City not found. Skipping...\n",
      "Processing Record 22 of Set 4 | nanortalik\n",
      "Processing Record 23 of Set 4 | mahebourg\n",
      "Processing Record 24 of Set 4 | vao\n",
      "Processing Record 25 of Set 4 | bethel\n",
      "Processing Record 26 of Set 4 | bonthe\n",
      "Processing Record 27 of Set 4 | mareeba\n",
      "Processing Record 28 of Set 4 | dikson\n",
      "Processing Record 29 of Set 4 | gazojak\n",
      "Processing Record 30 of Set 4 | boke\n",
      "Processing Record 31 of Set 4 | katsuura\n",
      "Processing Record 32 of Set 4 | constitucion\n",
      "Processing Record 33 of Set 4 | sitka\n",
      "Processing Record 34 of Set 4 | nara\n",
      "Processing Record 35 of Set 4 | tura\n",
      "Processing Record 36 of Set 4 | sibolga\n",
      "Processing Record 37 of Set 4 | piterka\n",
      "Processing Record 38 of Set 4 | kahului\n",
      "Processing Record 39 of Set 4 | foz\n",
      "Processing Record 40 of Set 4 | playas\n",
      "Processing Record 41 of Set 4 | chokurdakh\n",
      "Processing Record 42 of Set 4 | pangnirtung\n",
      "Processing Record 43 of Set 4 | walvis bay\n",
      "Processing Record 44 of Set 4 | karpathos\n",
      "Processing Record 45 of Set 4 | saint-philippe\n",
      "Processing Record 46 of Set 4 | manggar\n",
      "Processing Record 47 of Set 4 | springbok\n",
      "Processing Record 48 of Set 4 | severo-kurilsk\n",
      "Processing Record 49 of Set 4 | axim\n",
      "Processing Record 0 of Set 5 | guerrero negro\n",
      "Processing Record 1 of Set 5 | navirai\n",
      "Processing Record 2 of Set 5 | jiayuguan\n",
      "Processing Record 3 of Set 5 | faanui\n",
      "Processing Record 4 of Set 5 | victoria point\n",
      "Processing Record 5 of Set 5 | santo tomas\n",
      "Processing Record 6 of Set 5 | hamilton\n",
      "Processing Record 7 of Set 5 | ponta do sol\n",
      "Processing Record 8 of Set 5 | la mana\n",
      "Processing Record 9 of Set 5 | parras\n",
      "Processing Record 10 of Set 5 | dunedin\n",
      "Processing Record 11 of Set 5 | namatanai\n",
      "Processing Record 12 of Set 5 | tumannyy\n",
      "City not found. Skipping...\n",
      "Processing Record 13 of Set 5 | teeli\n",
      "Processing Record 14 of Set 5 | coquimbo\n",
      "Processing Record 15 of Set 5 | barcelos\n",
      "Processing Record 16 of Set 5 | ejea de los caballeros\n",
      "Processing Record 17 of Set 5 | saleaula\n",
      "City not found. Skipping...\n",
      "Processing Record 18 of Set 5 | nikolskoye\n",
      "Processing Record 19 of Set 5 | portland\n",
      "Processing Record 20 of Set 5 | port hardy\n",
      "Processing Record 21 of Set 5 | ocho rios\n",
      "Processing Record 22 of Set 5 | uglovskoye\n",
      "City not found. Skipping...\n",
      "Processing Record 23 of Set 5 | vlore\n",
      "Processing Record 24 of Set 5 | daru\n",
      "Processing Record 25 of Set 5 | lolua\n",
      "City not found. Skipping...\n",
      "Processing Record 26 of Set 5 | flinders\n",
      "Processing Record 27 of Set 5 | oromocto\n",
      "Processing Record 28 of Set 5 | atar\n",
      "Processing Record 29 of Set 5 | oistins\n",
      "Processing Record 30 of Set 5 | kavieng\n",
      "Processing Record 31 of Set 5 | shubarkuduk\n",
      "Processing Record 32 of Set 5 | saskylakh\n",
      "Processing Record 33 of Set 5 | lebedinyy\n",
      "Processing Record 34 of Set 5 | dolbeau\n",
      "Processing Record 35 of Set 5 | marzuq\n",
      "Processing Record 36 of Set 5 | kysyl-syr\n",
      "Processing Record 37 of Set 5 | maltahohe\n",
      "Processing Record 38 of Set 5 | yeppoon\n",
      "Processing Record 39 of Set 5 | mahemdavad\n",
      "Processing Record 40 of Set 5 | banda aceh\n",
      "Processing Record 41 of Set 5 | ilulissat\n",
      "Processing Record 42 of Set 5 | tiksi\n",
      "Processing Record 43 of Set 5 | narsaq\n",
      "Processing Record 44 of Set 5 | kennett\n",
      "Processing Record 45 of Set 5 | saint george\n",
      "Processing Record 46 of Set 5 | florencia\n",
      "Processing Record 47 of Set 5 | alofi\n",
      "Processing Record 48 of Set 5 | port blair\n",
      "Processing Record 49 of Set 5 | vila franca do campo\n",
      "Processing Record 0 of Set 6 | gagnoa\n",
      "Processing Record 1 of Set 6 | hofn\n",
      "Processing Record 2 of Set 6 | samarai\n",
      "Processing Record 3 of Set 6 | barkot\n",
      "Processing Record 4 of Set 6 | saldanha\n",
      "Processing Record 5 of Set 6 | urumqi\n",
      "Processing Record 6 of Set 6 | hami\n",
      "Processing Record 7 of Set 6 | tinskoy\n",
      "City not found. Skipping...\n",
      "Processing Record 8 of Set 6 | minot\n",
      "Processing Record 9 of Set 6 | dakoro\n",
      "Processing Record 10 of Set 6 | mys shmidta\n",
      "Processing Record 11 of Set 6 | mutsamudu\n",
      "Processing Record 12 of Set 6 | chapais\n",
      "Processing Record 13 of Set 6 | margate\n",
      "Processing Record 14 of Set 6 | zharkent\n",
      "Processing Record 15 of Set 6 | butaritari\n",
      "Processing Record 16 of Set 6 | sentyabrskiy\n",
      "City not found. Skipping...\n",
      "Processing Record 17 of Set 6 | izumo\n",
      "Processing Record 18 of Set 6 | mount gambier\n",
      "Processing Record 19 of Set 6 | west lorne\n",
      "Processing Record 20 of Set 6 | ocos\n",
      "Processing Record 21 of Set 6 | port keats\n",
      "Processing Record 22 of Set 6 | sioux lookout\n",
      "Processing Record 23 of Set 6 | metlika\n",
      "Processing Record 24 of Set 6 | kaeo\n",
      "Processing Record 25 of Set 6 | les cayes\n",
      "Processing Record 26 of Set 6 | moranbah\n",
      "Processing Record 27 of Set 6 | gushikawa\n",
      "Processing Record 28 of Set 6 | collie\n",
      "Processing Record 29 of Set 6 | mocuba\n",
      "Processing Record 30 of Set 6 | mackay\n",
      "Processing Record 31 of Set 6 | matara\n",
      "Processing Record 32 of Set 6 | pemangkat\n",
      "Processing Record 33 of Set 6 | tucuma\n",
      "Processing Record 34 of Set 6 | aklavik\n",
      "Processing Record 35 of Set 6 | boa vista\n",
      "Processing Record 36 of Set 6 | arkhara\n",
      "Processing Record 37 of Set 6 | ilheus\n",
      "Processing Record 38 of Set 6 | san cristobal\n",
      "Processing Record 39 of Set 6 | souillac\n",
      "Processing Record 40 of Set 6 | patratu\n",
      "Processing Record 41 of Set 6 | thompson\n",
      "Processing Record 42 of Set 6 | rafraf\n",
      "Processing Record 43 of Set 6 | chuy\n",
      "Processing Record 44 of Set 6 | rockport\n",
      "Processing Record 45 of Set 6 | mixtequilla\n",
      "Processing Record 46 of Set 6 | tomari\n",
      "Processing Record 47 of Set 6 | kosino\n",
      "Processing Record 48 of Set 6 | poum\n",
      "Processing Record 49 of Set 6 | port hedland\n",
      "Processing Record 0 of Set 7 | biloxi\n",
      "Processing Record 1 of Set 7 | grindavik\n",
      "Processing Record 2 of Set 7 | avera\n",
      "Processing Record 3 of Set 7 | wa\n",
      "Processing Record 4 of Set 7 | schneeberg\n",
      "Processing Record 5 of Set 7 | alto longa\n",
      "Processing Record 6 of Set 7 | bac lieu\n",
      "Processing Record 7 of Set 7 | muisne\n",
      "Processing Record 8 of Set 7 | caraz\n",
      "Processing Record 9 of Set 7 | nurota\n",
      "Processing Record 10 of Set 7 | mainpuri\n",
      "Processing Record 11 of Set 7 | morant bay\n",
      "Processing Record 12 of Set 7 | solnechnyy\n",
      "Processing Record 13 of Set 7 | harpanahalli\n",
      "City not found. Skipping...\n",
      "Processing Record 14 of Set 7 | ambodifototra\n",
      "Processing Record 15 of Set 7 | yerbogachen\n",
      "Processing Record 16 of Set 7 | airai\n",
      "Processing Record 17 of Set 7 | taoudenni\n",
      "Processing Record 18 of Set 7 | nemuro\n",
      "Processing Record 19 of Set 7 | kruisfontein\n",
      "Processing Record 20 of Set 7 | wahpeton\n",
      "Processing Record 21 of Set 7 | marang\n",
      "Processing Record 22 of Set 7 | terrace\n",
      "Processing Record 23 of Set 7 | lavrentiya\n",
      "Processing Record 24 of Set 7 | seoul\n",
      "Processing Record 25 of Set 7 | boguchany\n",
      "Processing Record 26 of Set 7 | hasaki\n",
      "Processing Record 27 of Set 7 | ewa beach\n",
      "Processing Record 28 of Set 7 | orlik\n",
      "Processing Record 29 of Set 7 | rapid city\n",
      "Processing Record 30 of Set 7 | grass valley\n",
      "Processing Record 31 of Set 7 | cherskiy\n",
      "City not found. Skipping...\n",
      "Processing Record 32 of Set 7 | savonlinna\n",
      "Processing Record 33 of Set 7 | bonavista\n",
      "Processing Record 34 of Set 7 | lagoa\n",
      "Processing Record 35 of Set 7 | arrifes\n",
      "Processing Record 36 of Set 7 | san andres\n",
      "Processing Record 37 of Set 7 | kasempa\n",
      "Processing Record 38 of Set 7 | la ronge\n",
      "Processing Record 39 of Set 7 | puerto baquerizo moreno\n",
      "Processing Record 40 of Set 7 | bukama\n",
      "Processing Record 41 of Set 7 | galveston\n",
      "Processing Record 42 of Set 7 | khandyga\n",
      "Processing Record 43 of Set 7 | lianzhou\n",
      "Processing Record 44 of Set 7 | beloha\n",
      "Processing Record 45 of Set 7 | henties bay\n",
      "Processing Record 46 of Set 7 | samoded\n",
      "Processing Record 47 of Set 7 | luderitz\n",
      "Processing Record 48 of Set 7 | akdepe\n",
      "Processing Record 49 of Set 7 | safaga\n",
      "Processing Record 0 of Set 8 | necochea\n",
      "Processing Record 1 of Set 8 | rudsar\n",
      "Processing Record 2 of Set 8 | meulaboh\n",
      "Processing Record 3 of Set 8 | tsienyane\n",
      "Processing Record 4 of Set 8 | syamzha\n",
      "Processing Record 5 of Set 8 | caravelas\n",
      "Processing Record 6 of Set 8 | chara\n",
      "Processing Record 7 of Set 8 | saint leonard\n",
      "Processing Record 8 of Set 8 | livingston\n",
      "Processing Record 9 of Set 8 | skjervoy\n",
      "Processing Record 10 of Set 8 | sambava\n",
      "Processing Record 11 of Set 8 | namibe\n",
      "Processing Record 12 of Set 8 | mecca\n",
      "Processing Record 13 of Set 8 | acari\n",
      "Processing Record 14 of Set 8 | morondava\n",
      "Processing Record 15 of Set 8 | sarangani\n",
      "Processing Record 16 of Set 8 | razdolinsk\n",
      "Processing Record 17 of Set 8 | mollendo\n",
      "Processing Record 18 of Set 8 | magadan\n",
      "Processing Record 19 of Set 8 | bitung\n",
      "Processing Record 20 of Set 8 | kindu\n",
      "Processing Record 21 of Set 8 | salalah\n",
      "Processing Record 22 of Set 8 | sunrise manor\n",
      "Processing Record 23 of Set 8 | yar-sale\n",
      "City not found. Skipping...\n",
      "Processing Record 24 of Set 8 | belyy yar\n",
      "Processing Record 25 of Set 8 | suozhen\n",
      "City not found. Skipping...\n",
      "Processing Record 26 of Set 8 | saint-augustin\n",
      "Processing Record 27 of Set 8 | tynda\n",
      "Processing Record 28 of Set 8 | lata\n",
      "Processing Record 29 of Set 8 | luwuk\n",
      "Processing Record 30 of Set 8 | pemberton\n",
      "Processing Record 31 of Set 8 | puerto varas\n",
      "Processing Record 32 of Set 8 | chabahar\n",
      "Processing Record 33 of Set 8 | vernon\n",
      "Processing Record 34 of Set 8 | samusu\n",
      "Processing Record 35 of Set 8 | maningrida\n",
      "Processing Record 36 of Set 8 | paradwip\n",
      "City not found. Skipping...\n",
      "Processing Record 37 of Set 8 | inhambane\n",
      "Processing Record 38 of Set 8 | henderson\n",
      "Processing Record 39 of Set 8 | wynyard\n",
      "Processing Record 40 of Set 8 | menongue\n",
      "Processing Record 41 of Set 8 | prince rupert\n",
      "Processing Record 42 of Set 8 | los llanos de aridane\n",
      "Processing Record 43 of Set 8 | krasnyy oktyabr\n",
      "Processing Record 44 of Set 8 | kerteh\n",
      "Processing Record 45 of Set 8 | yaan\n",
      "Processing Record 46 of Set 8 | tsihombe\n",
      "Processing Record 47 of Set 8 | haines junction\n",
      "Processing Record 48 of Set 8 | miles city\n",
      "Processing Record 49 of Set 8 | haibowan\n",
      "Processing Record 0 of Set 9 | iqaluit\n",
      "Processing Record 1 of Set 9 | skjaerhollen\n",
      "City not found. Skipping...\n",
      "Processing Record 2 of Set 9 | ardino\n",
      "Processing Record 3 of Set 9 | halalo\n",
      "Processing Record 4 of Set 9 | khani\n",
      "Processing Record 5 of Set 9 | buraydah\n",
      "Processing Record 6 of Set 9 | solhan\n",
      "Processing Record 7 of Set 9 | roebourne\n",
      "Processing Record 8 of Set 9 | gimli\n",
      "Processing Record 9 of Set 9 | omboue\n",
      "Processing Record 10 of Set 9 | bageshwar\n",
      "Processing Record 11 of Set 9 | srednekolymsk\n",
      "Processing Record 12 of Set 9 | nizhneyansk\n",
      "Processing Record 13 of Set 9 | sijunjung\n",
      "Processing Record 14 of Set 9 | ponnani\n",
      "Processing Record 15 of Set 9 | muroto\n",
      "Processing Record 16 of Set 9 | hurricane\n",
      "Processing Record 17 of Set 9 | avesta\n",
      "Processing Record 18 of Set 9 | juneau\n",
      "Processing Record 19 of Set 9 | rungata\n",
      "City not found. Skipping...\n",
      "Processing Record 20 of Set 9 | talnakh\n",
      "Processing Record 21 of Set 9 | sabha\n",
      "Processing Record 22 of Set 9 | dhidhdhoo\n",
      "Processing Record 23 of Set 9 | mitu\n",
      "Processing Record 24 of Set 9 | marystown\n",
      "Processing Record 25 of Set 9 | wattegama\n",
      "Processing Record 26 of Set 9 | carutapera\n",
      "Processing Record 27 of Set 9 | padang\n",
      "Processing Record 28 of Set 9 | nizwa\n",
      "Processing Record 29 of Set 9 | mirnyy\n",
      "Processing Record 30 of Set 9 | masvingo\n",
      "Processing Record 31 of Set 9 | filingue\n",
      "Processing Record 32 of Set 9 | majholi\n",
      "Processing Record 33 of Set 9 | salta\n",
      "Processing Record 34 of Set 9 | conceicao do araguaia\n",
      "Processing Record 35 of Set 9 | buritizeiro\n",
      "Processing Record 36 of Set 9 | lenoir\n",
      "Processing Record 37 of Set 9 | candido de abreu\n",
      "Processing Record 38 of Set 9 | gazimurskiy zavod\n",
      "Processing Record 39 of Set 9 | fonte boa\n",
      "Processing Record 40 of Set 9 | seddon\n",
      "Processing Record 41 of Set 9 | beloretsk\n",
      "Processing Record 42 of Set 9 | brownwood\n",
      "Processing Record 43 of Set 9 | colares\n",
      "Processing Record 44 of Set 9 | mujiayingzi\n",
      "Processing Record 45 of Set 9 | bethanien\n",
      "Processing Record 46 of Set 9 | fort nelson\n",
      "Processing Record 47 of Set 9 | arlit\n",
      "Processing Record 48 of Set 9 | mitsamiouli\n",
      "Processing Record 49 of Set 9 | rincon\n",
      "Processing Record 0 of Set 10 | bogotol\n",
      "Processing Record 1 of Set 10 | lockport\n",
      "Processing Record 2 of Set 10 | shibarghan\n",
      "Processing Record 3 of Set 10 | jaramana\n",
      "Processing Record 4 of Set 10 | neuquen\n",
      "Processing Record 5 of Set 10 | leningradskiy\n",
      "Processing Record 6 of Set 10 | tupiza\n",
      "Processing Record 7 of Set 10 | kungurtug\n",
      "Processing Record 8 of Set 10 | kangaatsiaq\n",
      "Processing Record 9 of Set 10 | opuwo\n",
      "Processing Record 10 of Set 10 | pisco\n",
      "Processing Record 11 of Set 10 | corum\n",
      "Processing Record 12 of Set 10 | tamiahua\n",
      "Processing Record 13 of Set 10 | neryungri\n",
      "Processing Record 14 of Set 10 | serik\n",
      "Processing Record 15 of Set 10 | omsukchan\n",
      "Processing Record 16 of Set 10 | burica\n",
      "Processing Record 17 of Set 10 | milas\n",
      "Processing Record 18 of Set 10 | tornio\n",
      "Processing Record 19 of Set 10 | rodeo\n",
      "Processing Record 20 of Set 10 | belaya gora\n",
      "Processing Record 21 of Set 10 | karamea\n",
      "Processing Record 22 of Set 10 | kalabo\n",
      "Processing Record 23 of Set 10 | malwan\n",
      "Processing Record 24 of Set 10 | greensburg\n",
      "Processing Record 25 of Set 10 | sorong\n",
      "Processing Record 26 of Set 10 | bryan\n",
      "Processing Record 27 of Set 10 | shahreza\n",
      "Processing Record 28 of Set 10 | wollongong\n",
      "Processing Record 29 of Set 10 | gunnedah\n",
      "Processing Record 30 of Set 10 | dosso\n",
      "Processing Record 31 of Set 10 | mogadishu\n",
      "Processing Record 32 of Set 10 | pacasmayo\n",
      "Processing Record 33 of Set 10 | sao filipe\n",
      "Processing Record 34 of Set 10 | pout\n",
      "Processing Record 35 of Set 10 | batemans bay\n",
      "Processing Record 36 of Set 10 | labuhan\n",
      "Processing Record 37 of Set 10 | oussouye\n",
      "Processing Record 38 of Set 10 | manokwari\n",
      "Processing Record 39 of Set 10 | alekseyevka\n",
      "Processing Record 40 of Set 10 | ngaoundere\n",
      "Processing Record 41 of Set 10 | hualmay\n",
      "Processing Record 42 of Set 10 | sorvag\n",
      "Processing Record 43 of Set 10 | mandalgovi\n",
      "Processing Record 44 of Set 10 | bellevue\n",
      "Processing Record 45 of Set 10 | provideniya\n",
      "Processing Record 46 of Set 10 | saint-louis\n",
      "Processing Record 47 of Set 10 | kuche\n",
      "Processing Record 48 of Set 10 | maykain\n",
      "City not found. Skipping...\n",
      "Processing Record 49 of Set 10 | linqiong\n",
      "Processing Record 0 of Set 11 | korla\n",
      "Processing Record 1 of Set 11 | yulara\n",
      "Processing Record 2 of Set 11 | rupert\n",
      "Processing Record 3 of Set 11 | high rock\n",
      "Processing Record 4 of Set 11 | ambon\n",
      "Processing Record 5 of Set 11 | goderich\n",
      "Processing Record 6 of Set 11 | jalu\n",
      "Processing Record 7 of Set 11 | goleta\n",
      "Processing Record 8 of Set 11 | kanniyakumari\n",
      "City not found. Skipping...\n",
      "Processing Record 9 of Set 11 | xuanhua\n",
      "Processing Record 10 of Set 11 | ngunguru\n",
      "Processing Record 11 of Set 11 | ossora\n",
      "Processing Record 12 of Set 11 | nuoro\n",
      "Processing Record 13 of Set 11 | homer\n",
      "Processing Record 14 of Set 11 | mayo\n",
      "Processing Record 15 of Set 11 | meyungs\n",
      "City not found. Skipping...\n",
      "Processing Record 16 of Set 11 | ajdabiya\n",
      "Processing Record 17 of Set 11 | adrar\n",
      "Processing Record 18 of Set 11 | coahuayana\n",
      "Processing Record 19 of Set 11 | port-gentil\n",
      "Processing Record 20 of Set 11 | kolpny\n",
      "Processing Record 21 of Set 11 | portsmouth\n",
      "Processing Record 22 of Set 11 | chicama\n",
      "Processing Record 23 of Set 11 | timra\n",
      "Processing Record 24 of Set 11 | tessaoua\n",
      "Processing Record 25 of Set 11 | ukiah\n",
      "Processing Record 26 of Set 11 | am timan\n",
      "Processing Record 27 of Set 11 | shu\n",
      "Processing Record 28 of Set 11 | general roca\n",
      "Processing Record 29 of Set 11 | paso de carrasco\n",
      "Processing Record 30 of Set 11 | takhatgarh\n",
      "Processing Record 31 of Set 11 | hihifo\n",
      "Processing Record 32 of Set 11 | tartagal\n",
      "Processing Record 33 of Set 11 | ostrovnoy\n",
      "Processing Record 34 of Set 11 | marcona\n",
      "Processing Record 35 of Set 11 | alekseyevskaya\n",
      "Processing Record 36 of Set 11 | teya\n",
      "Processing Record 37 of Set 11 | kyzyl-suu\n",
      "Processing Record 38 of Set 11 | krasnyy chikoy\n",
      "Processing Record 39 of Set 11 | sistranda\n",
      "Processing Record 40 of Set 11 | vagur\n",
      "Processing Record 41 of Set 11 | wahiawa\n",
      "Processing Record 42 of Set 11 | hokitika\n",
      "Processing Record 43 of Set 11 | marawi\n",
      "Processing Record 44 of Set 11 | louisbourg\n",
      "Processing Record 45 of Set 11 | plouzane\n",
      "Processing Record 46 of Set 11 | guilin\n",
      "Processing Record 47 of Set 11 | mehriz\n",
      "Processing Record 48 of Set 11 | anadyr\n",
      "Processing Record 49 of Set 11 | bulolo\n",
      "Processing Record 0 of Set 12 | gravdal\n",
      "Processing Record 1 of Set 12 | solwezi\n",
      "Processing Record 2 of Set 12 | thinadhoo\n",
      "Processing Record 3 of Set 12 | north branch\n",
      "Processing Record 4 of Set 12 | umm lajj\n",
      "Processing Record 5 of Set 12 | sisimiut\n",
      "Processing Record 6 of Set 12 | tanjong sepat\n",
      "Processing Record 7 of Set 12 | khor\n",
      "Processing Record 8 of Set 12 | aykhal\n",
      "Processing Record 9 of Set 12 | male\n",
      "Processing Record 10 of Set 12 | qaqortoq\n",
      "Processing Record 11 of Set 12 | faya\n",
      "Processing Record 12 of Set 12 | pinega\n",
      "Processing Record 13 of Set 12 | solovetskiy\n",
      "Processing Record 14 of Set 12 | labutta\n",
      "Processing Record 15 of Set 12 | alice springs\n",
      "Processing Record 16 of Set 12 | erzin\n",
      "Processing Record 17 of Set 12 | eureka\n",
      "Processing Record 18 of Set 12 | kalianget\n",
      "Processing Record 19 of Set 12 | shaunavon\n",
      "Processing Record 20 of Set 12 | sorland\n",
      "Processing Record 21 of Set 12 | trofors\n",
      "Processing Record 22 of Set 12 | huainan\n",
      "Processing Record 23 of Set 12 | biscarrosse\n",
      "Processing Record 24 of Set 12 | klaksvik\n",
      "Processing Record 25 of Set 12 | qandala\n",
      "Processing Record 26 of Set 12 | northam\n",
      "Processing Record 27 of Set 12 | vanimo\n",
      "Processing Record 28 of Set 12 | bayanday\n",
      "Processing Record 29 of Set 12 | aleksandrov gay\n",
      "Processing Record 30 of Set 12 | plastun\n",
      "Processing Record 31 of Set 12 | wonthaggi\n",
      "Processing Record 32 of Set 12 | kempele\n",
      "Processing Record 33 of Set 12 | salinopolis\n",
      "Processing Record 34 of Set 12 | aginskoye\n",
      "Processing Record 35 of Set 12 | hervey bay\n",
      "-----------------------------\n",
      "Data Retrieval Complete      \n",
      "-----------------------------\n"
     ]
    }
   ],
   "source": [
    "# Set the API base URL\n",
    "url = \"https://api.openweathermap.org/data/2.5/weather?\"\n",
    "\n",
    "# Define an empty list to fetch the weather data for each city\n",
    "city_data = []\n",
    "\n",
    "# Print to logger\n",
    "print(\"Beginning Data Retrieval     \")\n",
    "print(\"-----------------------------\")\n",
    "\n",
    "# Create counters\n",
    "record_count = 1\n",
    "set_count = 1\n",
    "\n",
    "# Loop through all the cities in our list to fetch weather data\n",
    "for i, city in enumerate(cities):\n",
    "        \n",
    "    # Group cities in sets of 50 for logging purposes\n",
    "    if (i % 50 == 0 and i >= 50):\n",
    "        set_count += 1\n",
    "        record_count = 0\n",
    "\n",
    "    # Create endpoint URL with each city\n",
    "    coords_url = f\"http://api.openweathermap.org/geo/1.0/direct?q={city}&limit=1&appid={weather_api_key}\"\n",
    "    city_url = f'{url}lat={coords_lat}&lon={coords_lon}&appid={weather_api_key}'\n",
    "    \n",
    "    # Log the url, record, and set numbers\n",
    "    print(\"Processing Record %s of Set %s | %s\" % (record_count, set_count, city))\n",
    "\n",
    "    # Add 1 to the record count\n",
    "    record_count += 1\n",
    "\n",
    "    # Run an API request for each of the cities\n",
    "    try:\n",
    "        # Parse the JSON and retrieve data\n",
    "        coords_list = requests.get(coords_url).json()\n",
    "        coords=coords_list[0]\n",
    "        coords_lat= coords['lat']\n",
    "        coords_lon= coords['lon']\n",
    "        city_weather = requests.get(city_url).json()\n",
    "\n",
    "        # Parse out latitude, longitude, max temp, humidity, cloudiness, wind speed, country, and date\n",
    "        city_lat = city_weather['coord']['lat']\n",
    "        city_lng = city_weather['coord']['lon']\n",
    "        city_max_temp = city_weather['main']['temp_max'] -273.15\n",
    "        city_humidity = city_weather['main']['humidity']\n",
    "        city_clouds = city_weather['clouds']['all']\n",
    "        city_wind = city_weather['wind']['speed']\n",
    "        city_country = city_weather['sys']['country']\n",
    "        city_date = city_weather['dt']\n",
    "\n",
    "        # Append the City information into city_data list\n",
    "        city_data.append({\"City\": city, \n",
    "                          \"Lat\": city_lat, \n",
    "                          \"Lng\": city_lng, \n",
    "                          \"Max Temp\": city_max_temp,\n",
    "                          \"Humidity\": city_humidity,\n",
    "                          \"Cloudiness\": city_clouds,\n",
    "                          \"Wind Speed\": city_wind,\n",
    "                          \"Country\": city_country,\n",
    "                          \"Date\": city_date})\n",
    "\n",
    "    # If an error is experienced, skip the city\n",
    "    except:\n",
    "        print(\"City not found. Skipping...\")\n",
    "        pass\n",
    "              \n",
    "# Indicate that Data Loading is complete \n",
    "print(\"-----------------------------\")\n",
    "print(\"Data Retrieval Complete      \")\n",
    "print(\"-----------------------------\")"
   ]
  },
  {
   "cell_type": "code",
   "execution_count": 8,
   "metadata": {},
   "outputs": [
    {
     "data": {
      "text/plain": [
       "City          566\n",
       "Lat           566\n",
       "Lng           566\n",
       "Max Temp      566\n",
       "Humidity      566\n",
       "Cloudiness    566\n",
       "Wind Speed    566\n",
       "Country       566\n",
       "Date          566\n",
       "dtype: int64"
      ]
     },
     "execution_count": 8,
     "metadata": {},
     "output_type": "execute_result"
    }
   ],
   "source": [
    "# Convert the cities weather data into a Pandas DataFrame\n",
    "city_data_df = pd.DataFrame(city_data)\n",
    "\n",
    "# Show Record Count\n",
    "city_data_df.count()"
   ]
  },
  {
   "cell_type": "code",
   "execution_count": 9,
   "metadata": {},
   "outputs": [
    {
     "data": {
      "text/html": [
       "<div>\n",
       "<style scoped>\n",
       "    .dataframe tbody tr th:only-of-type {\n",
       "        vertical-align: middle;\n",
       "    }\n",
       "\n",
       "    .dataframe tbody tr th {\n",
       "        vertical-align: top;\n",
       "    }\n",
       "\n",
       "    .dataframe thead th {\n",
       "        text-align: right;\n",
       "    }\n",
       "</style>\n",
       "<table border=\"1\" class=\"dataframe\">\n",
       "  <thead>\n",
       "    <tr style=\"text-align: right;\">\n",
       "      <th></th>\n",
       "      <th>City</th>\n",
       "      <th>Lat</th>\n",
       "      <th>Lng</th>\n",
       "      <th>Max Temp</th>\n",
       "      <th>Humidity</th>\n",
       "      <th>Cloudiness</th>\n",
       "      <th>Wind Speed</th>\n",
       "      <th>Country</th>\n",
       "      <th>Date</th>\n",
       "    </tr>\n",
       "  </thead>\n",
       "  <tbody>\n",
       "    <tr>\n",
       "      <th>0</th>\n",
       "      <td>busselton</td>\n",
       "      <td>43.1767</td>\n",
       "      <td>51.6797</td>\n",
       "      <td>-0.67</td>\n",
       "      <td>49</td>\n",
       "      <td>14</td>\n",
       "      <td>4.70</td>\n",
       "      <td>KZ</td>\n",
       "      <td>1675053359</td>\n",
       "    </tr>\n",
       "    <tr>\n",
       "      <th>1</th>\n",
       "      <td>rawson</td>\n",
       "      <td>-33.6445</td>\n",
       "      <td>115.3489</td>\n",
       "      <td>31.33</td>\n",
       "      <td>36</td>\n",
       "      <td>20</td>\n",
       "      <td>2.77</td>\n",
       "      <td>AU</td>\n",
       "      <td>1675053359</td>\n",
       "    </tr>\n",
       "    <tr>\n",
       "      <th>2</th>\n",
       "      <td>tarakan</td>\n",
       "      <td>-43.2991</td>\n",
       "      <td>-65.1057</td>\n",
       "      <td>31.42</td>\n",
       "      <td>20</td>\n",
       "      <td>0</td>\n",
       "      <td>15.02</td>\n",
       "      <td>AR</td>\n",
       "      <td>1675053361</td>\n",
       "    </tr>\n",
       "    <tr>\n",
       "      <th>3</th>\n",
       "      <td>cidreira</td>\n",
       "      <td>3.3416</td>\n",
       "      <td>117.5986</td>\n",
       "      <td>26.57</td>\n",
       "      <td>83</td>\n",
       "      <td>75</td>\n",
       "      <td>3.09</td>\n",
       "      <td>ID</td>\n",
       "      <td>1675053361</td>\n",
       "    </tr>\n",
       "    <tr>\n",
       "      <th>4</th>\n",
       "      <td>rikitea</td>\n",
       "      <td>-30.1657</td>\n",
       "      <td>-50.2183</td>\n",
       "      <td>21.22</td>\n",
       "      <td>91</td>\n",
       "      <td>2</td>\n",
       "      <td>0.78</td>\n",
       "      <td>BR</td>\n",
       "      <td>1675053362</td>\n",
       "    </tr>\n",
       "  </tbody>\n",
       "</table>\n",
       "</div>"
      ],
      "text/plain": [
       "        City      Lat       Lng  Max Temp  Humidity  Cloudiness  Wind Speed  \\\n",
       "0  busselton  43.1767   51.6797     -0.67        49          14        4.70   \n",
       "1     rawson -33.6445  115.3489     31.33        36          20        2.77   \n",
       "2    tarakan -43.2991  -65.1057     31.42        20           0       15.02   \n",
       "3   cidreira   3.3416  117.5986     26.57        83          75        3.09   \n",
       "4    rikitea -30.1657  -50.2183     21.22        91           2        0.78   \n",
       "\n",
       "  Country        Date  \n",
       "0      KZ  1675053359  \n",
       "1      AU  1675053359  \n",
       "2      AR  1675053361  \n",
       "3      ID  1675053361  \n",
       "4      BR  1675053362  "
      ]
     },
     "execution_count": 9,
     "metadata": {},
     "output_type": "execute_result"
    }
   ],
   "source": [
    "# Display sample data\n",
    "city_data_df.head()"
   ]
  },
  {
   "cell_type": "code",
   "execution_count": 10,
   "metadata": {},
   "outputs": [],
   "source": [
    "# Export the City_Data into a csv\n",
    "city_data_df.to_csv(\"output_data/cities.csv\", index_label=\"City_ID\")"
   ]
  },
  {
   "cell_type": "code",
   "execution_count": 11,
   "metadata": {},
   "outputs": [
    {
     "data": {
      "text/html": [
       "<div>\n",
       "<style scoped>\n",
       "    .dataframe tbody tr th:only-of-type {\n",
       "        vertical-align: middle;\n",
       "    }\n",
       "\n",
       "    .dataframe tbody tr th {\n",
       "        vertical-align: top;\n",
       "    }\n",
       "\n",
       "    .dataframe thead th {\n",
       "        text-align: right;\n",
       "    }\n",
       "</style>\n",
       "<table border=\"1\" class=\"dataframe\">\n",
       "  <thead>\n",
       "    <tr style=\"text-align: right;\">\n",
       "      <th></th>\n",
       "      <th>City</th>\n",
       "      <th>Lat</th>\n",
       "      <th>Lng</th>\n",
       "      <th>Max Temp</th>\n",
       "      <th>Humidity</th>\n",
       "      <th>Cloudiness</th>\n",
       "      <th>Wind Speed</th>\n",
       "      <th>Country</th>\n",
       "      <th>Date</th>\n",
       "    </tr>\n",
       "    <tr>\n",
       "      <th>City_ID</th>\n",
       "      <th></th>\n",
       "      <th></th>\n",
       "      <th></th>\n",
       "      <th></th>\n",
       "      <th></th>\n",
       "      <th></th>\n",
       "      <th></th>\n",
       "      <th></th>\n",
       "      <th></th>\n",
       "    </tr>\n",
       "  </thead>\n",
       "  <tbody>\n",
       "    <tr>\n",
       "      <th>0</th>\n",
       "      <td>busselton</td>\n",
       "      <td>43.1767</td>\n",
       "      <td>51.6797</td>\n",
       "      <td>-0.67</td>\n",
       "      <td>49</td>\n",
       "      <td>14</td>\n",
       "      <td>4.70</td>\n",
       "      <td>KZ</td>\n",
       "      <td>1675053359</td>\n",
       "    </tr>\n",
       "    <tr>\n",
       "      <th>1</th>\n",
       "      <td>rawson</td>\n",
       "      <td>-33.6445</td>\n",
       "      <td>115.3489</td>\n",
       "      <td>31.33</td>\n",
       "      <td>36</td>\n",
       "      <td>20</td>\n",
       "      <td>2.77</td>\n",
       "      <td>AU</td>\n",
       "      <td>1675053359</td>\n",
       "    </tr>\n",
       "    <tr>\n",
       "      <th>2</th>\n",
       "      <td>tarakan</td>\n",
       "      <td>-43.2991</td>\n",
       "      <td>-65.1057</td>\n",
       "      <td>31.42</td>\n",
       "      <td>20</td>\n",
       "      <td>0</td>\n",
       "      <td>15.02</td>\n",
       "      <td>AR</td>\n",
       "      <td>1675053361</td>\n",
       "    </tr>\n",
       "    <tr>\n",
       "      <th>3</th>\n",
       "      <td>cidreira</td>\n",
       "      <td>3.3416</td>\n",
       "      <td>117.5986</td>\n",
       "      <td>26.57</td>\n",
       "      <td>83</td>\n",
       "      <td>75</td>\n",
       "      <td>3.09</td>\n",
       "      <td>ID</td>\n",
       "      <td>1675053361</td>\n",
       "    </tr>\n",
       "    <tr>\n",
       "      <th>4</th>\n",
       "      <td>rikitea</td>\n",
       "      <td>-30.1657</td>\n",
       "      <td>-50.2183</td>\n",
       "      <td>21.22</td>\n",
       "      <td>91</td>\n",
       "      <td>2</td>\n",
       "      <td>0.78</td>\n",
       "      <td>BR</td>\n",
       "      <td>1675053362</td>\n",
       "    </tr>\n",
       "  </tbody>\n",
       "</table>\n",
       "</div>"
      ],
      "text/plain": [
       "              City      Lat       Lng  Max Temp  Humidity  Cloudiness  \\\n",
       "City_ID                                                                 \n",
       "0        busselton  43.1767   51.6797     -0.67        49          14   \n",
       "1           rawson -33.6445  115.3489     31.33        36          20   \n",
       "2          tarakan -43.2991  -65.1057     31.42        20           0   \n",
       "3         cidreira   3.3416  117.5986     26.57        83          75   \n",
       "4          rikitea -30.1657  -50.2183     21.22        91           2   \n",
       "\n",
       "         Wind Speed Country        Date  \n",
       "City_ID                                  \n",
       "0              4.70      KZ  1675053359  \n",
       "1              2.77      AU  1675053359  \n",
       "2             15.02      AR  1675053361  \n",
       "3              3.09      ID  1675053361  \n",
       "4              0.78      BR  1675053362  "
      ]
     },
     "execution_count": 11,
     "metadata": {},
     "output_type": "execute_result"
    }
   ],
   "source": [
    "# Read saved data\n",
    "city_data_df = pd.read_csv(\"output_data/cities.csv\", index_col=\"City_ID\")\n",
    "\n",
    "# Display sample data\n",
    "city_data_df.head()"
   ]
  },
  {
   "cell_type": "code",
   "execution_count": 36,
   "metadata": {},
   "outputs": [
    {
     "data": {
      "text/plain": [
       "time.struct_time(tm_year=2023, tm_mon=1, tm_mday=30, tm_hour=4, tm_min=35, tm_sec=59, tm_wday=0, tm_yday=30, tm_isdst=0)"
      ]
     },
     "execution_count": 36,
     "metadata": {},
     "output_type": "execute_result"
    }
   ],
   "source": [
    "test=city_data_df.loc[0]['Date']\n",
    "\n",
    "test2=time.gmtime(test)\n",
    "test2"
   ]
  },
  {
   "cell_type": "markdown",
   "metadata": {},
   "source": [
    "### Create the Scatter Plots Requested\n",
    "\n",
    "#### Latitude Vs. Temperature"
   ]
  },
  {
   "cell_type": "code",
   "execution_count": 41,
   "metadata": {
    "tags": []
   },
   "outputs": [
    {
     "data": {
      "image/png": "[encoded data removed]",
      "text/plain": [
       "<Figure size 432x288 with 1 Axes>"
      ]
     },
     "metadata": {
      "needs_background": "light"
     },
     "output_type": "display_data"
    }
   ],
   "source": [
    "# Build scatter plot for latitude vs. temperature\n",
    "x_values=city_data_df['Lat']\n",
    "y_values=city_data_df['Max Temp']\n",
    "plt.scatter(x_values,y_values,edgecolors='black')\n",
    "# Incorporate the other graph properties\n",
    "plt.title('City Latitude vs. Temperature')\n",
    "plt.xlabel('Latitude')\n",
    "plt.ylabel('Max Temperature(C)')\n",
    "\n",
    "# Save the figure\n",
    "plt.savefig(\"output_data/Fig1.png\")\n",
    "\n",
    "# Show plot\n",
    "plt.show()"
   ]
  },
  {
   "cell_type": "markdown",
   "metadata": {},
   "source": [
    "#### Latitude Vs. Humidity"
   ]
  },
  {
   "cell_type": "code",
   "execution_count": 42,
   "metadata": {},
   "outputs": [
    {
     "data": {
      "image/png": "[encoded data removed]",
      "text/plain": [
       "<Figure size 432x288 with 1 Axes>"
      ]
     },
     "metadata": {
      "needs_background": "light"
     },
     "output_type": "display_data"
    }
   ],
   "source": [
    "# Build the scatter plots for latitude vs. humidity\n",
    "x_values=city_data_df['Lat']\n",
    "y_values=city_data_df['Humidity']\n",
    "plt.scatter(x_values,y_values,edgecolors='black')\n",
    "# Incorporate the other graph properties\n",
    "plt.title('City Latitude vs. Humidity')\n",
    "plt.xlabel('Latitude')\n",
    "plt.ylabel('Humidity(%)')\n",
    "\n",
    "# Save the figure\n",
    "plt.savefig(\"output_data/Fig2.png\")\n",
    "\n",
    "# Show plot\n",
    "plt.show()"
   ]
  },
  {
   "cell_type": "markdown",
   "metadata": {},
   "source": [
    "#### Latitude Vs. Cloudiness"
   ]
  },
  {
   "cell_type": "code",
   "execution_count": 43,
   "metadata": {},
   "outputs": [
    {
     "data": {
      "image/png": "[encoded data removed]",
      "text/plain": [
       "<Figure size 432x288 with 1 Axes>"
      ]
     },
     "metadata": {
      "needs_background": "light"
     },
     "output_type": "display_data"
    }
   ],
   "source": [
    "# Build the scatter plots for latitude vs. cloudiness\n",
    "x_values=city_data_df['Lat']\n",
    "y_values=city_data_df['Cloudiness']\n",
    "plt.scatter(x_values,y_values,edgecolors='black')\n",
    "# Incorporate the other graph properties\n",
    "plt.title('City Latitude vs. Cloudiness')\n",
    "plt.xlabel('Latitude')\n",
    "plt.ylabel('Cloudiness(%)')\n",
    "\n",
    "# Save the figure\n",
    "plt.savefig(\"output_data/Fig3.png\")\n",
    "\n",
    "# Show plot\n",
    "plt.show()"
   ]
  },
  {
   "cell_type": "markdown",
   "metadata": {},
   "source": [
    "#### Latitude vs. Wind Speed Plot"
   ]
  },
  {
   "cell_type": "code",
   "execution_count": 44,
   "metadata": {},
   "outputs": [
    {
     "data": {
      "image/png": "[encoded data removed]",
      "text/plain": [
       "<Figure size 432x288 with 1 Axes>"
      ]
     },
     "metadata": {
      "needs_background": "light"
     },
     "output_type": "display_data"
    }
   ],
   "source": [
    "# Build the scatter plots for latitude vs. wind speed\n",
    "x_values=city_data_df['Lat']\n",
    "y_values=city_data_df['Wind Speed']\n",
    "plt.scatter(x_values,y_values,edgecolors='black')\n",
    "# Incorporate the other graph properties\n",
    "plt.title('City Latitude vs. Wind Speed')\n",
    "plt.xlabel('Latitude')\n",
    "plt.ylabel('Wind Speed(m/s)')\n",
    "\n",
    "# Save the figure\n",
    "plt.savefig(\"output_data/Fig4.png\")\n",
    "\n",
    "# Show plot\n",
    "plt.show()"
   ]
  },
  {
   "cell_type": "markdown",
   "metadata": {},
   "source": [
    "---\n",
    "\n",
    "## Requirement 2: Compute Linear Regression for Each Relationship\n"
   ]
  },
  {
   "cell_type": "code",
   "execution_count": 79,
   "metadata": {},
   "outputs": [],
   "source": [
    "# Define a function to create Linear Regression plots\n",
    "def linear_regression(x,y):\n",
    "    \n",
    "    (slope, intercept, rvalue, pvalue, stderr) = linregress(x, y)\n",
    "    regress_values = x * slope + intercept\n",
    "    line_eq = \"y = \" + str(round(slope,2)) + \"x + \" + str(round(intercept,2))\n",
    "\n",
    "    plt.scatter(x,y)\n",
    "    plt.plot(x,regress_values,\"r-\")\n",
    "    plt.annotate(line_eq,(x.min(), regress_values.min()),fontsize=15,color=\"red\")\n",
    "    print(f'The r-value is {rvalue}')\n",
    "    \n",
    "    "
   ]
  },
  {
   "cell_type": "code",
   "execution_count": 46,
   "metadata": {},
   "outputs": [
    {
     "data": {
      "text/html": [
       "<div>\n",
       "<style scoped>\n",
       "    .dataframe tbody tr th:only-of-type {\n",
       "        vertical-align: middle;\n",
       "    }\n",
       "\n",
       "    .dataframe tbody tr th {\n",
       "        vertical-align: top;\n",
       "    }\n",
       "\n",
       "    .dataframe thead th {\n",
       "        text-align: right;\n",
       "    }\n",
       "</style>\n",
       "<table border=\"1\" class=\"dataframe\">\n",
       "  <thead>\n",
       "    <tr style=\"text-align: right;\">\n",
       "      <th></th>\n",
       "      <th>City</th>\n",
       "      <th>Lat</th>\n",
       "      <th>Lng</th>\n",
       "      <th>Max Temp</th>\n",
       "      <th>Humidity</th>\n",
       "      <th>Cloudiness</th>\n",
       "      <th>Wind Speed</th>\n",
       "      <th>Country</th>\n",
       "      <th>Date</th>\n",
       "    </tr>\n",
       "    <tr>\n",
       "      <th>City_ID</th>\n",
       "      <th></th>\n",
       "      <th></th>\n",
       "      <th></th>\n",
       "      <th></th>\n",
       "      <th></th>\n",
       "      <th></th>\n",
       "      <th></th>\n",
       "      <th></th>\n",
       "      <th></th>\n",
       "    </tr>\n",
       "  </thead>\n",
       "  <tbody>\n",
       "    <tr>\n",
       "      <th>0</th>\n",
       "      <td>busselton</td>\n",
       "      <td>43.1767</td>\n",
       "      <td>51.6797</td>\n",
       "      <td>-0.67</td>\n",
       "      <td>49</td>\n",
       "      <td>14</td>\n",
       "      <td>4.70</td>\n",
       "      <td>KZ</td>\n",
       "      <td>1675053359</td>\n",
       "    </tr>\n",
       "    <tr>\n",
       "      <th>3</th>\n",
       "      <td>cidreira</td>\n",
       "      <td>3.3416</td>\n",
       "      <td>117.5986</td>\n",
       "      <td>26.57</td>\n",
       "      <td>83</td>\n",
       "      <td>75</td>\n",
       "      <td>3.09</td>\n",
       "      <td>ID</td>\n",
       "      <td>1675053361</td>\n",
       "    </tr>\n",
       "    <tr>\n",
       "      <th>6</th>\n",
       "      <td>carnarvon</td>\n",
       "      <td>78.2232</td>\n",
       "      <td>15.6464</td>\n",
       "      <td>-4.85</td>\n",
       "      <td>63</td>\n",
       "      <td>75</td>\n",
       "      <td>10.80</td>\n",
       "      <td>SJ</td>\n",
       "      <td>1675053364</td>\n",
       "    </tr>\n",
       "    <tr>\n",
       "      <th>8</th>\n",
       "      <td>hermanus</td>\n",
       "      <td>1.7505</td>\n",
       "      <td>40.0595</td>\n",
       "      <td>23.97</td>\n",
       "      <td>73</td>\n",
       "      <td>0</td>\n",
       "      <td>3.60</td>\n",
       "      <td>KE</td>\n",
       "      <td>1675053365</td>\n",
       "    </tr>\n",
       "    <tr>\n",
       "      <th>10</th>\n",
       "      <td>safford</td>\n",
       "      <td>34.6392</td>\n",
       "      <td>-120.4579</td>\n",
       "      <td>9.32</td>\n",
       "      <td>92</td>\n",
       "      <td>75</td>\n",
       "      <td>0.00</td>\n",
       "      <td>US</td>\n",
       "      <td>1675053366</td>\n",
       "    </tr>\n",
       "  </tbody>\n",
       "</table>\n",
       "</div>"
      ],
      "text/plain": [
       "              City      Lat       Lng  Max Temp  Humidity  Cloudiness  \\\n",
       "City_ID                                                                 \n",
       "0        busselton  43.1767   51.6797     -0.67        49          14   \n",
       "3         cidreira   3.3416  117.5986     26.57        83          75   \n",
       "6        carnarvon  78.2232   15.6464     -4.85        63          75   \n",
       "8         hermanus   1.7505   40.0595     23.97        73           0   \n",
       "10         safford  34.6392 -120.4579      9.32        92          75   \n",
       "\n",
       "         Wind Speed Country        Date  \n",
       "City_ID                                  \n",
       "0              4.70      KZ  1675053359  \n",
       "3              3.09      ID  1675053361  \n",
       "6             10.80      SJ  1675053364  \n",
       "8              3.60      KE  1675053365  \n",
       "10             0.00      US  1675053366  "
      ]
     },
     "execution_count": 46,
     "metadata": {},
     "output_type": "execute_result"
    }
   ],
   "source": [
    "# Create a DataFrame with the Northern Hemisphere data (Latitude >= 0)\n",
    "northern_hemi_df=city_data_df[city_data_df['Lat']>=0]\n",
    "\n",
    "# Display sample data\n",
    "northern_hemi_df.head()"
   ]
  },
  {
   "cell_type": "code",
   "execution_count": 47,
   "metadata": {},
   "outputs": [
    {
     "data": {
      "text/html": [
       "<div>\n",
       "<style scoped>\n",
       "    .dataframe tbody tr th:only-of-type {\n",
       "        vertical-align: middle;\n",
       "    }\n",
       "\n",
       "    .dataframe tbody tr th {\n",
       "        vertical-align: top;\n",
       "    }\n",
       "\n",
       "    .dataframe thead th {\n",
       "        text-align: right;\n",
       "    }\n",
       "</style>\n",
       "<table border=\"1\" class=\"dataframe\">\n",
       "  <thead>\n",
       "    <tr style=\"text-align: right;\">\n",
       "      <th></th>\n",
       "      <th>City</th>\n",
       "      <th>Lat</th>\n",
       "      <th>Lng</th>\n",
       "      <th>Max Temp</th>\n",
       "      <th>Humidity</th>\n",
       "      <th>Cloudiness</th>\n",
       "      <th>Wind Speed</th>\n",
       "      <th>Country</th>\n",
       "      <th>Date</th>\n",
       "    </tr>\n",
       "    <tr>\n",
       "      <th>City_ID</th>\n",
       "      <th></th>\n",
       "      <th></th>\n",
       "      <th></th>\n",
       "      <th></th>\n",
       "      <th></th>\n",
       "      <th></th>\n",
       "      <th></th>\n",
       "      <th></th>\n",
       "      <th></th>\n",
       "    </tr>\n",
       "  </thead>\n",
       "  <tbody>\n",
       "    <tr>\n",
       "      <th>1</th>\n",
       "      <td>rawson</td>\n",
       "      <td>-33.6445</td>\n",
       "      <td>115.3489</td>\n",
       "      <td>31.33</td>\n",
       "      <td>36</td>\n",
       "      <td>20</td>\n",
       "      <td>2.77</td>\n",
       "      <td>AU</td>\n",
       "      <td>1675053359</td>\n",
       "    </tr>\n",
       "    <tr>\n",
       "      <th>2</th>\n",
       "      <td>tarakan</td>\n",
       "      <td>-43.2991</td>\n",
       "      <td>-65.1057</td>\n",
       "      <td>31.42</td>\n",
       "      <td>20</td>\n",
       "      <td>0</td>\n",
       "      <td>15.02</td>\n",
       "      <td>AR</td>\n",
       "      <td>1675053361</td>\n",
       "    </tr>\n",
       "    <tr>\n",
       "      <th>4</th>\n",
       "      <td>rikitea</td>\n",
       "      <td>-30.1657</td>\n",
       "      <td>-50.2183</td>\n",
       "      <td>21.22</td>\n",
       "      <td>91</td>\n",
       "      <td>2</td>\n",
       "      <td>0.78</td>\n",
       "      <td>BR</td>\n",
       "      <td>1675053362</td>\n",
       "    </tr>\n",
       "    <tr>\n",
       "      <th>5</th>\n",
       "      <td>longyearbyen</td>\n",
       "      <td>-23.1230</td>\n",
       "      <td>-134.9680</td>\n",
       "      <td>26.45</td>\n",
       "      <td>68</td>\n",
       "      <td>16</td>\n",
       "      <td>4.43</td>\n",
       "      <td>PF</td>\n",
       "      <td>1675053363</td>\n",
       "    </tr>\n",
       "    <tr>\n",
       "      <th>7</th>\n",
       "      <td>wajir</td>\n",
       "      <td>-24.8826</td>\n",
       "      <td>113.6576</td>\n",
       "      <td>27.10</td>\n",
       "      <td>62</td>\n",
       "      <td>1</td>\n",
       "      <td>5.64</td>\n",
       "      <td>AU</td>\n",
       "      <td>1675053364</td>\n",
       "    </tr>\n",
       "  </tbody>\n",
       "</table>\n",
       "</div>"
      ],
      "text/plain": [
       "                 City      Lat       Lng  Max Temp  Humidity  Cloudiness  \\\n",
       "City_ID                                                                    \n",
       "1              rawson -33.6445  115.3489     31.33        36          20   \n",
       "2             tarakan -43.2991  -65.1057     31.42        20           0   \n",
       "4             rikitea -30.1657  -50.2183     21.22        91           2   \n",
       "5        longyearbyen -23.1230 -134.9680     26.45        68          16   \n",
       "7               wajir -24.8826  113.6576     27.10        62           1   \n",
       "\n",
       "         Wind Speed Country        Date  \n",
       "City_ID                                  \n",
       "1              2.77      AU  1675053359  \n",
       "2             15.02      AR  1675053361  \n",
       "4              0.78      BR  1675053362  \n",
       "5              4.43      PF  1675053363  \n",
       "7              5.64      AU  1675053364  "
      ]
     },
     "execution_count": 47,
     "metadata": {},
     "output_type": "execute_result"
    }
   ],
   "source": [
    "# Create a DataFrame with the Southern Hemisphere data (Latitude < 0)\n",
    "southern_hemi_df=city_data_df[city_data_df['Lat']<0]\n",
    "\n",
    "# Display sample data\n",
    "southern_hemi_df.head()"
   ]
  },
  {
   "cell_type": "markdown",
   "metadata": {},
   "source": [
    "###  Temperature vs. Latitude Linear Regression Plot"
   ]
  },
  {
   "cell_type": "code",
   "execution_count": 80,
   "metadata": {},
   "outputs": [
    {
     "name": "stdout",
     "output_type": "stream",
     "text": [
      "The r-value is -0.841892875764196\n"
     ]
    },
    {
     "data": {
      "text/plain": [
       "Text(0, 0.5, 'Max Temp(C)')"
      ]
     },
     "execution_count": 80,
     "metadata": {},
     "output_type": "execute_result"
    },
    {
     "data": {
      "image/png": "[encoded data removed]",
      "text/plain": [
       "<Figure size 432x288 with 1 Axes>"
      ]
     },
     "metadata": {
      "needs_background": "light"
     },
     "output_type": "display_data"
    }
   ],
   "source": [
    "# Linear regression on Northern Hemisphere\n",
    "y_values=northern_hemi_df['Max Temp']\n",
    "x_values=northern_hemi_df['Lat']\n",
    "linear_regression(x_values,y_values)\n",
    "plt.xlabel('Latitude')\n",
    "plt.ylabel('Max Temp(C)')"
   ]
  },
  {
   "cell_type": "code",
   "execution_count": 81,
   "metadata": {},
   "outputs": [
    {
     "name": "stdout",
     "output_type": "stream",
     "text": [
      "The r-value is 0.36472606599030183\n"
     ]
    },
    {
     "data": {
      "image/png": "[encoded data removed]",
      "text/plain": [
       "<Figure size 432x288 with 1 Axes>"
      ]
     },
     "metadata": {
      "needs_background": "light"
     },
     "output_type": "display_data"
    }
   ],
   "source": [
    "# Linear regression on Southern Hemisphere\n",
    "y_values=southern_hemi_df['Max Temp']\n",
    "x_values=southern_hemi_df['Lat']\n",
    "plt.xlabel('Latitude')\n",
    "plt.ylabel('Max Temp(C)')\n",
    "linear_regression(x_values,y_values)\n"
   ]
  },
  {
   "cell_type": "markdown",
   "metadata": {},
   "source": [
    "**Discussion about the linear relationship:** YOUR RESPONSE HERE"
   ]
  },
  {
   "cell_type": "markdown",
   "metadata": {},
   "source": [
    "### Humidity vs. Latitude Linear Regression Plot"
   ]
  },
  {
   "cell_type": "code",
   "execution_count": 82,
   "metadata": {},
   "outputs": [
    {
     "name": "stdout",
     "output_type": "stream",
     "text": [
      "The r-value is 0.41545123680767443\n"
     ]
    },
    {
     "data": {
      "image/png": "[encoded data removed]",
      "text/plain": [
       "<Figure size 432x288 with 1 Axes>"
      ]
     },
     "metadata": {
      "needs_background": "light"
     },
     "output_type": "display_data"
    }
   ],
   "source": [
    "# Northern Hemisphere\n",
    "y_values=northern_hemi_df['Humidity']\n",
    "x_values=northern_hemi_df['Lat']\n",
    "plt.xlabel('Latitude')\n",
    "plt.ylabel('Humidity')\n",
    "linear_regression(x_values,y_values)"
   ]
  },
  {
   "cell_type": "code",
   "execution_count": 91,
   "metadata": {},
   "outputs": [
    {
     "name": "stdout",
     "output_type": "stream",
     "text": [
      "The r-value is 0.28579501893992176\n"
     ]
    },
    {
     "data": {
      "image/png": "[encoded data removed]",
      "text/plain": [
       "<Figure size 432x288 with 1 Axes>"
      ]
     },
     "metadata": {
      "needs_background": "light"
     },
     "output_type": "display_data"
    }
   ],
   "source": [
    "# Southern Hemisphere\n",
    "y_values=southern_hemi_df['Humidity']\n",
    "x_values=southern_hemi_df['Lat']\n",
    "plt.xlabel('Latitude')\n",
    "plt.ylabel('Humidity')\n",
    "linear_regression(x_values,y_values)"
   ]
  },
  {
   "cell_type": "markdown",
   "metadata": {},
   "source": [
    "**Discussion about the linear relationship:** YOUR RESPONSE HERE"
   ]
  },
  {
   "cell_type": "markdown",
   "metadata": {},
   "source": [
    "### Cloudiness vs. Latitude Linear Regression Plot"
   ]
  },
  {
   "cell_type": "code",
   "execution_count": 87,
   "metadata": {},
   "outputs": [
    {
     "name": "stdout",
     "output_type": "stream",
     "text": [
      "The r-value is 0.34356454240507983\n"
     ]
    },
    {
     "data": {
      "image/png": "[encoded data removed]",
      "text/plain": [
       "<Figure size 432x288 with 1 Axes>"
      ]
     },
     "metadata": {
      "needs_background": "light"
     },
     "output_type": "display_data"
    }
   ],
   "source": [
    "# Northern Hemisphere\n",
    "y_values=northern_hemi_df['Cloudiness']\n",
    "x_values=northern_hemi_df['Lat']\n",
    "plt.xlabel('Latitude')\n",
    "plt.ylabel('Cloudiness')\n",
    "linear_regression(x_values,y_values)"
   ]
  },
  {
   "cell_type": "code",
   "execution_count": 88,
   "metadata": {},
   "outputs": [
    {
     "name": "stdout",
     "output_type": "stream",
     "text": [
      "The r-value is 0.2503519114659893\n"
     ]
    },
    {
     "data": {
      "image/png": "[encoded data removed]",
      "text/plain": [
       "<Figure size 432x288 with 1 Axes>"
      ]
     },
     "metadata": {
      "needs_background": "light"
     },
     "output_type": "display_data"
    }
   ],
   "source": [
    "# Southern Hemisphere\n",
    "y_values=southern_hemi_df['Cloudiness']\n",
    "x_values=southern_hemi_df['Lat']\n",
    "plt.xlabel('Latitude')\n",
    "plt.ylabel('Cloudiness')\n",
    "linear_regression(x_values,y_values)"
   ]
  },
  {
   "cell_type": "markdown",
   "metadata": {},
   "source": [
    "**Discussion about the linear relationship:** YOUR RESPONSE HERE"
   ]
  },
  {
   "cell_type": "markdown",
   "metadata": {},
   "source": [
    "### Wind Speed vs. Latitude Linear Regression Plot"
   ]
  },
  {
   "cell_type": "code",
   "execution_count": 89,
   "metadata": {},
   "outputs": [
    {
     "name": "stdout",
     "output_type": "stream",
     "text": [
      "The r-value is 0.13923517123983423\n"
     ]
    },
    {
     "data": {
      "image/png": "[encoded data removed]",
      "text/plain": [
       "<Figure size 432x288 with 1 Axes>"
      ]
     },
     "metadata": {
      "needs_background": "light"
     },
     "output_type": "display_data"
    }
   ],
   "source": [
    "# Northern Hemisphere\n",
    "y_values=northern_hemi_df['Wind Speed']\n",
    "x_values=northern_hemi_df['Lat']\n",
    "plt.xlabel('Latitude')\n",
    "plt.ylabel('Wind Speed')\n",
    "linear_regression(x_values,y_values)"
   ]
  },
  {
   "cell_type": "code",
   "execution_count": 90,
   "metadata": {},
   "outputs": [
    {
     "name": "stdout",
     "output_type": "stream",
     "text": [
      "The r-value is -0.39463986660868905\n"
     ]
    },
    {
     "data": {
      "image/png": "[encoded data removed]",
      "text/plain": [
       "<Figure size 432x288 with 1 Axes>"
      ]
     },
     "metadata": {
      "needs_background": "light"
     },
     "output_type": "display_data"
    }
   ],
   "source": [
    "# Southern Hemisphere\n",
    "y_values=southern_hemi_df['Wind Speed']\n",
    "x_values=southern_hemi_df['Lat']\n",
    "plt.xlabel('Latitude')\n",
    "plt.ylabel('Wind Speed')\n",
    "linear_regression(x_values,y_values)"
   ]
  },
  {
   "cell_type": "markdown",
   "metadata": {},
   "source": [
    "**Discussion about the linear relationship:** YOUR RESPONSE HERE"
   ]
  },
  {
   "cell_type": "code",
   "execution_count": null,
   "metadata": {},
   "outputs": [],
   "source": []
  }
 ],
 "metadata": {
  "anaconda-cloud": {},
  "kernel_info": {
   "name": "python3"
  },
  "kernelspec": {
   "display_name": "PythonData",
   "language": "python",
   "name": "python3"
  },
  "language_info": {
   "codemirror_mode": {
    "name": "ipython",
    "version": 3
   },
   "file_extension": ".py",
   "mimetype": "text/x-python",
   "name": "python",
   "nbconvert_exporter": "python",
   "pygments_lexer": "ipython3",
   "version": "3.7.7"
  },
  "latex_envs": {
   "LaTeX_envs_menu_present": true,
   "autoclose": false,
   "autocomplete": true,
   "bibliofile": "biblio.bib",
   "cite_by": "apalike",
   "current_citInitial": 1,
   "eqLabelWithNumbers": true,
   "eqNumInitial": 1,
   "hotkeys": {
    "equation": "Ctrl-E",
    "itemize": "Ctrl-I"
   },
   "labels_anchors": false,
   "latex_user_defs": false,
   "report_style_numbering": false,
   "user_envs_cfg": false
  },
  "nteract": {
   "version": "0.12.3"
  },
  "vscode": {
   "interpreter": {
    "hash": "e93cccf8913179910ea909575c019996157444be943d3f2b693932ac33ba98a7"
   }
  }
 },
 "nbformat": 4,
 "nbformat_minor": 4
}
