{
 "cells": [
  {
   "cell_type": "markdown",
   "metadata": {},
   "source": [
    "# VacationPy\n",
    "---\n",
    "\n",
    "## Starter Code to Import Libraries and Load the Weather and Coordinates Data"
   ]
  },
  {
   "cell_type": "code",
   "execution_count": 10,
   "metadata": {},
   "outputs": [],
   "source": [
    "# Dependencies and Setup\n",
    "import hvplot.pandas\n",
    "import pandas as pd\n",
    "import requests\n",
    "\n",
    "# Import API key\n",
    "from api_keys import geoapify_key"
   ]
  },
  {
   "cell_type": "code",
   "execution_count": 11,
   "metadata": {},
   "outputs": [
    {
     "data": {
      "text/html": [
       "<div>\n",
       "<style scoped>\n",
       "    .dataframe tbody tr th:only-of-type {\n",
       "        vertical-align: middle;\n",
       "    }\n",
       "\n",
       "    .dataframe tbody tr th {\n",
       "        vertical-align: top;\n",
       "    }\n",
       "\n",
       "    .dataframe thead th {\n",
       "        text-align: right;\n",
       "    }\n",
       "</style>\n",
       "<table border=\"1\" class=\"dataframe\">\n",
       "  <thead>\n",
       "    <tr style=\"text-align: right;\">\n",
       "      <th></th>\n",
       "      <th>City_ID</th>\n",
       "      <th>City</th>\n",
       "      <th>Lat</th>\n",
       "      <th>Lng</th>\n",
       "      <th>Max Temp</th>\n",
       "      <th>Humidity</th>\n",
       "      <th>Cloudiness</th>\n",
       "      <th>Wind Speed</th>\n",
       "      <th>Country</th>\n",
       "      <th>Date</th>\n",
       "    </tr>\n",
       "  </thead>\n",
       "  <tbody>\n",
       "    <tr>\n",
       "      <th>0</th>\n",
       "      <td>0</td>\n",
       "      <td>butaritari</td>\n",
       "      <td>3.0707</td>\n",
       "      <td>172.7902</td>\n",
       "      <td>27.10</td>\n",
       "      <td>79</td>\n",
       "      <td>67</td>\n",
       "      <td>9.01</td>\n",
       "      <td>KI</td>\n",
       "      <td>1675161449</td>\n",
       "    </tr>\n",
       "    <tr>\n",
       "      <th>1</th>\n",
       "      <td>1</td>\n",
       "      <td>cuamba</td>\n",
       "      <td>-14.8031</td>\n",
       "      <td>36.5372</td>\n",
       "      <td>27.45</td>\n",
       "      <td>74</td>\n",
       "      <td>54</td>\n",
       "      <td>2.25</td>\n",
       "      <td>MZ</td>\n",
       "      <td>1675161449</td>\n",
       "    </tr>\n",
       "    <tr>\n",
       "      <th>2</th>\n",
       "      <td>2</td>\n",
       "      <td>mount isa</td>\n",
       "      <td>-20.7333</td>\n",
       "      <td>139.5000</td>\n",
       "      <td>23.87</td>\n",
       "      <td>100</td>\n",
       "      <td>40</td>\n",
       "      <td>2.57</td>\n",
       "      <td>AU</td>\n",
       "      <td>1675161450</td>\n",
       "    </tr>\n",
       "    <tr>\n",
       "      <th>3</th>\n",
       "      <td>3</td>\n",
       "      <td>airai</td>\n",
       "      <td>-8.9266</td>\n",
       "      <td>125.4092</td>\n",
       "      <td>17.12</td>\n",
       "      <td>97</td>\n",
       "      <td>100</td>\n",
       "      <td>0.82</td>\n",
       "      <td>TL</td>\n",
       "      <td>1675161450</td>\n",
       "    </tr>\n",
       "    <tr>\n",
       "      <th>4</th>\n",
       "      <td>4</td>\n",
       "      <td>cape town</td>\n",
       "      <td>-33.9258</td>\n",
       "      <td>18.4232</td>\n",
       "      <td>30.62</td>\n",
       "      <td>37</td>\n",
       "      <td>0</td>\n",
       "      <td>3.60</td>\n",
       "      <td>ZA</td>\n",
       "      <td>1675161382</td>\n",
       "    </tr>\n",
       "  </tbody>\n",
       "</table>\n",
       "</div>"
      ],
      "text/plain": [
       "   City_ID        City      Lat       Lng  Max Temp  Humidity  Cloudiness  \\\n",
       "0        0  butaritari   3.0707  172.7902     27.10        79          67   \n",
       "1        1      cuamba -14.8031   36.5372     27.45        74          54   \n",
       "2        2   mount isa -20.7333  139.5000     23.87       100          40   \n",
       "3        3       airai  -8.9266  125.4092     17.12        97         100   \n",
       "4        4   cape town -33.9258   18.4232     30.62        37           0   \n",
       "\n",
       "   Wind Speed Country        Date  \n",
       "0        9.01      KI  1675161449  \n",
       "1        2.25      MZ  1675161449  \n",
       "2        2.57      AU  1675161450  \n",
       "3        0.82      TL  1675161450  \n",
       "4        3.60      ZA  1675161382  "
      ]
     },
     "execution_count": 11,
     "metadata": {},
     "output_type": "execute_result"
    }
   ],
   "source": [
    "# Load the CSV file created in Part 1 into a Pandas DataFrame\n",
    "city_data_df = pd.read_csv(\"output_data/cities.csv\")\n",
    "\n",
    "# Display sample data\n",
    "city_data_df.head()"
   ]
  },
  {
   "cell_type": "markdown",
   "metadata": {},
   "source": [
    "---\n",
    "\n",
    "### Step 1: Create a map that displays a point for every city in the `city_data_df` DataFrame. The size of the point should be the humidity in each city."
   ]
  },
  {
   "cell_type": "code",
   "execution_count": 12,
   "metadata": {},
   "outputs": [
    {
     "data": {},
     "metadata": {},
     "output_type": "display_data"
    },
    {
     "data": {
      "application/vnd.holoviews_exec.v0+json": "",
      "text/html": [
       "<div id='1560'>\n",
       "  <div class=\"bk-root\" id=\"c47fdd76-0a10-443d-9f62-0613419e80c5\" data-root-id=\"1560\"></div>\n",
       "</div>\n",
       "<script type=\"application/javascript\">(function(root) {\n",
       "  function embed_document(root) {\n",
       "    var docs_json = {\"b61c814b-0d61-42bf-ba52-291c9aa04bd7\":{\"defs\":[{\"extends\":null,\"module\":null,\"name\":\"ReactiveHTML1\",\"overrides\":[],\"properties\":[]},{\"extends\":null,\"module\":null,\"name\":\"FlexBox1\",\"overrides\":[],\"properties\":[{\"default\":\"flex-start\",\"kind\":null,\"name\":\"align_content\"},{\"default\":\"flex-start\",\"kind\":null,\"name\":\"align_items\"},{\"default\":\"row\",\"kind\":null,\"name\":\"flex_direction\"},{\"default\":\"wrap\",\"kind\":null,\"name\":\"flex_wrap\"},{\"default\":\"flex-start\",\"kind\":null,\"name\":\"justify_content\"}]},{\"extends\":null,\"module\":null,\"name\":\"GridStack1\",\"overrides\":[],\"properties\":[{\"default\":\"warn\",\"kind\":null,\"name\":\"mode\"},{\"default\":null,\"kind\":null,\"name\":\"ncols\"},{\"default\":null,\"kind\":null,\"name\":\"nrows\"},{\"default\":true,\"kind\":null,\"name\":\"allow_resize\"},{\"default\":true,\"kind\":null,\"name\":\"allow_drag\"},{\"default\":[],\"kind\":null,\"name\":\"state\"}]},{\"extends\":null,\"module\":null,\"name\":\"click1\",\"overrides\":[],\"properties\":[{\"default\":\"\",\"kind\":null,\"name\":\"terminal_output\"},{\"default\":\"\",\"kind\":null,\"name\":\"debug_name\"},{\"default\":0,\"kind\":null,\"name\":\"clears\"}]},{\"extends\":null,\"module\":null,\"name\":\"NotificationAreaBase1\",\"overrides\":[],\"properties\":[{\"default\":\"bottom-right\",\"kind\":null,\"name\":\"position\"},{\"default\":0,\"kind\":null,\"name\":\"_clear\"}]},{\"extends\":null,\"module\":null,\"name\":\"NotificationArea1\",\"overrides\":[],\"properties\":[{\"default\":[],\"kind\":null,\"name\":\"notifications\"},{\"default\":\"bottom-right\",\"kind\":null,\"name\":\"position\"},{\"default\":0,\"kind\":null,\"name\":\"_clear\"},{\"default\":[{\"background\":\"#ffc107\",\"icon\":{\"className\":\"fas fa-exclamation-triangle\",\"color\":\"white\",\"tagName\":\"i\"},\"type\":\"warning\"},{\"background\":\"#007bff\",\"icon\":{\"className\":\"fas fa-info-circle\",\"color\":\"white\",\"tagName\":\"i\"},\"type\":\"info\"}],\"kind\":null,\"name\":\"types\"}]},{\"extends\":null,\"module\":null,\"name\":\"Notification\",\"overrides\":[],\"properties\":[{\"default\":null,\"kind\":null,\"name\":\"background\"},{\"default\":3000,\"kind\":null,\"name\":\"duration\"},{\"default\":null,\"kind\":null,\"name\":\"icon\"},{\"default\":\"\",\"kind\":null,\"name\":\"message\"},{\"default\":null,\"kind\":null,\"name\":\"notification_type\"},{\"default\":false,\"kind\":null,\"name\":\"_destroyed\"}]},{\"extends\":null,\"module\":null,\"name\":\"TemplateActions1\",\"overrides\":[],\"properties\":[{\"default\":0,\"kind\":null,\"name\":\"open_modal\"},{\"default\":0,\"kind\":null,\"name\":\"close_modal\"}]},{\"extends\":null,\"module\":null,\"name\":\"MaterialTemplateActions1\",\"overrides\":[],\"properties\":[{\"default\":0,\"kind\":null,\"name\":\"open_modal\"},{\"default\":0,\"kind\":null,\"name\":\"close_modal\"}]}],\"roots\":{\"references\":[{\"attributes\":{\"active_drag\":{\"id\":\"1591\"},\"active_scroll\":{\"id\":\"1592\"},\"tools\":[{\"id\":\"1570\"},{\"id\":\"1590\"},{\"id\":\"1591\"},{\"id\":\"1592\"},{\"id\":\"1593\"},{\"id\":\"1594\"}]},\"id\":\"1596\",\"type\":\"Toolbar\"},{\"attributes\":{},\"id\":\"1590\",\"type\":\"SaveTool\"},{\"attributes\":{\"click_policy\":\"mute\",\"coordinates\":null,\"group\":null,\"items\":[{\"id\":\"1654\"}],\"location\":[0,0]},\"id\":\"1653\",\"type\":\"Legend\"},{\"attributes\":{},\"id\":\"1591\",\"type\":\"PanTool\"},{\"attributes\":{},\"id\":\"1594\",\"type\":\"ResetTool\"},{\"attributes\":{},\"id\":\"1618\",\"type\":\"AllLabels\"},{\"attributes\":{\"zoom_on_axis\":false},\"id\":\"1592\",\"type\":\"WheelZoomTool\"},{\"attributes\":{},\"id\":\"1638\",\"type\":\"Selection\"},{\"attributes\":{\"coordinates\":null,\"group\":null,\"text_color\":\"black\",\"text_font_size\":\"12pt\"},\"id\":\"1574\",\"type\":\"Title\"},{\"attributes\":{\"end\":22704541.92323164,\"min_interval\":5,\"reset_end\":22704541.92323164,\"reset_start\":-22788031.54132661,\"start\":-22788031.54132661,\"tags\":[[[\"Lng\",\"Lng\",null]]]},\"id\":\"1566\",\"type\":\"Range1d\"},{\"attributes\":{\"match_aspect\":true,\"overlay\":{\"id\":\"1595\"}},\"id\":\"1593\",\"type\":\"BoxZoomTool\"},{\"attributes\":{\"label\":{\"field\":\"color\"},\"renderers\":[{\"id\":\"1645\"}]},\"id\":\"1654\",\"type\":\"LegendItem\"},{\"attributes\":{\"margin\":[5,5,5,5],\"name\":\"HSpacer02131\",\"sizing_mode\":\"stretch_width\"},\"id\":\"1561\",\"type\":\"Spacer\"},{\"attributes\":{\"attribution\":\"&copy; <a href=\\\"https://www.openstreetmap.org/copyright\\\">OpenStreetMap</a> contributors\",\"url\":\"https://c.tile.openstreetmap.org/{Z}/{X}/{Y}.png\"},\"id\":\"1631\",\"type\":\"WMTSTileSource\"},{\"attributes\":{\"below\":[{\"id\":\"1582\"}],\"center\":[{\"id\":\"1585\"},{\"id\":\"1589\"}],\"frame_height\":500,\"frame_width\":700,\"height\":null,\"left\":[{\"id\":\"1586\"}],\"margin\":[5,5,5,5],\"match_aspect\":true,\"min_border_bottom\":10,\"min_border_left\":10,\"min_border_right\":10,\"min_border_top\":10,\"renderers\":[{\"id\":\"1634\"},{\"id\":\"1645\"}],\"right\":[{\"id\":\"1653\"}],\"sizing_mode\":\"fixed\",\"title\":{\"id\":\"1574\"},\"toolbar\":{\"id\":\"1596\"},\"width\":null,\"x_range\":{\"id\":\"1566\"},\"x_scale\":{\"id\":\"1578\"},\"y_range\":{\"id\":\"1567\"},\"y_scale\":{\"id\":\"1580\"}},\"id\":\"1573\",\"subtype\":\"Figure\",\"type\":\"Plot\"},{\"attributes\":{\"fill_color\":{\"field\":\"color\",\"transform\":{\"id\":\"1636\"}},\"hatch_color\":{\"field\":\"color\",\"transform\":{\"id\":\"1636\"}},\"line_color\":{\"field\":\"color\",\"transform\":{\"id\":\"1636\"}},\"size\":{\"field\":\"size\"},\"x\":{\"field\":\"Lng\"},\"y\":{\"field\":\"Lat\"}},\"id\":\"1643\",\"type\":\"Scatter\"},{\"attributes\":{},\"id\":\"1578\",\"type\":\"LinearScale\"},{\"attributes\":{\"fill_color\":{\"field\":\"color\",\"transform\":{\"id\":\"1636\"}},\"hatch_color\":{\"field\":\"color\",\"transform\":{\"id\":\"1636\"}},\"line_color\":{\"field\":\"color\",\"transform\":{\"id\":\"1636\"}},\"size\":{\"field\":\"size\"},\"x\":{\"field\":\"Lng\"},\"y\":{\"field\":\"Lat\"}},\"id\":\"1640\",\"type\":\"Scatter\"},{\"attributes\":{\"dimension\":\"lat\"},\"id\":\"1608\",\"type\":\"MercatorTickFormatter\"},{\"attributes\":{\"margin\":[5,5,5,5],\"name\":\"HSpacer02132\",\"sizing_mode\":\"stretch_width\"},\"id\":\"1667\",\"type\":\"Spacer\"},{\"attributes\":{\"dimension\":\"lat\"},\"id\":\"1607\",\"type\":\"MercatorTicker\"},{\"attributes\":{\"dimension\":\"lon\"},\"id\":\"1606\",\"type\":\"MercatorTickFormatter\"},{\"attributes\":{\"axis\":{\"id\":\"1582\"},\"coordinates\":null,\"grid_line_color\":null,\"group\":null,\"ticker\":null},\"id\":\"1585\",\"type\":\"Grid\"},{\"attributes\":{\"source\":{\"id\":\"1637\"}},\"id\":\"1646\",\"type\":\"CDSView\"},{\"attributes\":{\"bottom_units\":\"screen\",\"coordinates\":null,\"fill_alpha\":0.5,\"fill_color\":\"lightgrey\",\"group\":null,\"left_units\":\"screen\",\"level\":\"overlay\",\"line_alpha\":1.0,\"line_color\":\"black\",\"line_dash\":[4,4],\"line_width\":2,\"right_units\":\"screen\",\"syncable\":false,\"top_units\":\"screen\"},\"id\":\"1595\",\"type\":\"BoxAnnotation\"},{\"attributes\":{},\"id\":\"1580\",\"type\":\"LinearScale\"},{\"attributes\":{\"axis_label\":\"y\",\"coordinates\":null,\"formatter\":{\"id\":\"1608\"},\"group\":null,\"major_label_policy\":{\"id\":\"1618\"},\"ticker\":{\"id\":\"1607\"}},\"id\":\"1586\",\"type\":\"LinearAxis\"},{\"attributes\":{\"fill_alpha\":{\"value\":0.1},\"fill_color\":{\"field\":\"color\",\"transform\":{\"id\":\"1636\"}},\"hatch_alpha\":{\"value\":0.1},\"hatch_color\":{\"field\":\"color\",\"transform\":{\"id\":\"1636\"}},\"line_alpha\":{\"value\":0.1},\"line_color\":{\"field\":\"color\",\"transform\":{\"id\":\"1636\"}},\"size\":{\"field\":\"size\"},\"x\":{\"field\":\"Lng\"},\"y\":{\"field\":\"Lat\"}},\"id\":\"1641\",\"type\":\"Scatter\"},{\"attributes\":{\"axis_label\":\"x\",\"coordinates\":null,\"formatter\":{\"id\":\"1606\"},\"group\":null,\"major_label_policy\":{\"id\":\"1611\"},\"ticker\":{\"id\":\"1605\"}},\"id\":\"1582\",\"type\":\"LinearAxis\"},{\"attributes\":{},\"id\":\"1650\",\"type\":\"UnionRenderers\"},{\"attributes\":{\"end\":19829169.185511336,\"min_interval\":5,\"reset_end\":19829169.185511336,\"reset_start\":-12665526.146315986,\"start\":-12665526.146315986,\"tags\":[[[\"Lat\",\"Lat\",null]]]},\"id\":\"1567\",\"type\":\"Range1d\"},{\"attributes\":{\"factors\":[\"butaritari\",\"cuamba\",\"mount isa\",\"airai\",\"cape town\",\"chuy\",\"olafsvik\",\"new norfolk\",\"cherskiy\",\"namibe\",\"hobyo\",\"astoria\",\"ilulissat\",\"saint-philippe\",\"puerto cabezas\",\"mataura\",\"ushuaia\",\"contai\",\"punta arenas\",\"port blair\",\"gao\",\"victoria\",\"alofi\",\"dangtu\",\"roald\",\"bengkulu\",\"meulaboh\",\"west bay\",\"maceio\",\"mar del plata\",\"vaini\",\"avarua\",\"saldanha\",\"dikson\",\"mamallapuram\",\"karlskrona\",\"busselton\",\"broken hill\",\"deputatskiy\",\"severo-kurilsk\",\"saskylakh\",\"codrington\",\"aranos\",\"rikitea\",\"hobart\",\"nizhneudinsk\",\"jamestown\",\"albany\",\"taoudenni\",\"zhezkazgan\",\"zelenets\",\"tuktoyaktuk\",\"karratha\",\"tasiilaq\",\"port alfred\",\"vao\",\"hermanus\",\"yellowknife\",\"road town\",\"san carlos de bariloche\",\"kodiak\",\"alyangula\",\"hithadhoo\",\"zhigansk\",\"gifhorn\",\"norman wells\",\"kapaa\",\"necochea\",\"puerto ayora\",\"nikolskoye\",\"nome\",\"half moon bay\",\"bredasdorp\",\"geraldton\",\"pozo colorado\",\"guadalupe y calvo\",\"santa cruz cabralia\",\"panaba\",\"lesogorsk\",\"mount gambier\",\"khatanga\",\"fort nelson\",\"barrow\",\"longyearbyen\",\"port elizabeth\",\"hami\",\"sinazongwe\",\"upernavik\",\"salalah\",\"carnarvon\",\"gallup\",\"narsaq\",\"rio gallegos\",\"fukuma\",\"saint george\",\"adrar\",\"miri\",\"hilo\",\"warrington\",\"ponta do sol\",\"nanortalik\",\"bowen\",\"atuona\",\"ajdabiya\",\"angoche\",\"port hedland\",\"pitimbu\",\"sao joao da barra\",\"sao filipe\",\"chokurdakh\",\"iralaya\",\"arica\",\"lompoc\",\"port lincoln\",\"sitka\",\"massakory\",\"egvekinot\",\"bluff\",\"qaqortoq\",\"santa marta\",\"kaitangata\",\"ribeira grande\",\"simbahan\",\"bay roberts\",\"east london\",\"lhokseumawe\",\"petropavlovsk-kamchatskiy\",\"porosozero\",\"puerto colombia\",\"tuatapere\",\"bani\",\"sungaipenuh\",\"khuchni\",\"ashcroft\",\"khandbari\",\"faanui\",\"luderitz\",\"tortosa\",\"pangnirtung\",\"nelson bay\",\"palmeirais\",\"taltal\",\"lebu\",\"lahaina\",\"olga\",\"fairbanks\",\"arraial do cabo\",\"quatre cocos\",\"katsuura\",\"moose factory\",\"provideniya\",\"fuerte olimpo\",\"kavieng\",\"gamba\",\"ginir\",\"thaba nchu\",\"solnechnyy\",\"puerto maldonado\",\"yar-sale\",\"klaksvik\",\"qaanaaq\",\"chicama\",\"rumoi\",\"saint-pierre\",\"bolshoye selo\",\"progreso\",\"vardo\",\"san patricio\",\"tazmalt\",\"burhanpur\",\"lagoa\",\"ostrovnoy\",\"parambu\",\"tessalit\",\"pevek\",\"kostomuksha\",\"lac du bonnet\",\"hasaki\",\"oranjemund\",\"shache\",\"tiksi\",\"isangel\",\"springdale\",\"honiara\",\"indiaroba\",\"cap malheureux\",\"gouyave\",\"kieta\",\"castro\",\"nicoya\",\"raudeberg\",\"torbay\",\"kampot\",\"puerto gaitan\",\"bubaque\",\"auki\",\"pisco\",\"kumluca\",\"letlhakane\",\"yaan\",\"great falls\",\"harper\",\"hulan\",\"bathsheba\",\"dvinskoy\",\"kempten\",\"havoysund\",\"kolondieba\",\"dongli\",\"eureka\",\"tazovskiy\",\"pandan\",\"hambantota\",\"paamiut\",\"southwick\",\"alta floresta\",\"mayya\",\"hualmay\",\"mimongo\",\"neiafu\",\"inuvik\",\"morondava\",\"staunton\",\"billings\",\"sibu\",\"amahai\",\"glenwood springs\",\"la ronge\",\"guangyuan\",\"vila franca do campo\",\"cartagena\",\"senneterre\",\"tevaitoa\",\"mackay\",\"ahipara\",\"viesca\",\"treuchtlingen\",\"henties bay\",\"marang\",\"masty\",\"kuhdasht\",\"seoul\",\"la mira\",\"bireun\",\"sorland\",\"planaltina\",\"traverse city\",\"aripuana\",\"yabelo\",\"cabo san lucas\",\"turka\",\"georgetown\",\"grave\",\"pryozerne\",\"komsomolskiy\",\"pailon\",\"borba\",\"rolla\",\"port-cartier\",\"nizhniy kuranakh\",\"waingapu\",\"iqaluit\",\"inverell\",\"cockburn town\",\"bethel\",\"juba\",\"hadejia\",\"dingle\",\"villarrica\",\"artyom\",\"cidreira\",\"bandarbeyla\",\"kibre mengist\",\"udachnyy\",\"kavaratti\",\"edd\",\"mahebourg\",\"sibolga\",\"farafangana\",\"atar\",\"abu samrah\",\"sinop\",\"laguna de perlas\",\"biak\",\"hamilton\",\"vanimo\",\"baihar\",\"flinders\",\"ancud\",\"kunszentmarton\",\"sabha\",\"luanda\",\"durban\",\"gladstone\",\"ambilobe\",\"amapa\",\"yurty\",\"benjamin hill\",\"coihaique\",\"sebinkarahisar\",\"jinchang\",\"avenal\",\"zeya\",\"aykhal\",\"vostok\",\"bethanien\",\"aktau\",\"chilliwack\",\"leningradskiy\",\"ossora\",\"port macquarie\",\"promyshlennyy\",\"saint-leu\",\"lorengau\",\"altay\",\"esperance\",\"thinadhoo\",\"kirakira\",\"hanna\",\"turki\",\"santa cruz\",\"gornopravdinsk\",\"ler\",\"nenagh\",\"manyana\",\"grindavik\",\"kassala\",\"goure\",\"talnakh\",\"the valley\",\"lufilufi\",\"ahuimanu\",\"finnsnes\",\"nizhniy ufaley\",\"kidal\",\"sulechow\",\"ewa beach\",\"souillac\",\"konevo\",\"karata\",\"touros\",\"nortelandia\",\"coquimbo\",\"belyy yar\",\"sola\",\"robe\",\"jibuti\",\"manicore\",\"salo\",\"okhotsk\",\"poum\",\"kailua\",\"takoradi\",\"loralai\",\"tuim\",\"haines junction\",\"tezu\",\"podgorica\",\"prado\",\"punta\",\"beroroha\",\"mbanza-ngungu\",\"severo-yeniseyskiy\",\"shelburne\",\"elko\",\"san juan del sur\",\"sobolevo\",\"taguatinga\",\"teya\",\"maniitsoq\",\"bambous virieux\",\"turayf\",\"krasnoarmeysk\",\"otjimbingwe\",\"lasa\",\"pontes e lacerda\",\"plesetsk\",\"mollendo\",\"perez\",\"bonavista\",\"santa luzia\",\"dwarka\",\"avera\",\"luganville\",\"rumphi\",\"gat\",\"srednekolymsk\",\"ferrol\",\"port-gentil\",\"sistranda\",\"yulara\",\"port moresby\",\"novobiryusinskiy\",\"batsfjord\",\"kaeo\",\"claveria\",\"manado\",\"asau\",\"beloha\",\"nhulunbuy\",\"kyren\",\"caravelas\",\"esfarayen\",\"saint anthony\",\"masallatah\",\"ketchikan\",\"bentiu\",\"killybegs\",\"keti bandar\",\"dingli\",\"atambua\",\"victor harbor\",\"oistins\",\"saint-augustin\",\"college\",\"sarangani\",\"innisfail\",\"isernia\",\"lubango\",\"baie-comeau\",\"bixby\",\"falakata\",\"thompson\",\"luba\",\"isla mujeres\",\"llangefni\",\"jiuquan\",\"linjiang\",\"mishelevka\",\"prince albert\",\"piraquara\",\"panjab\",\"kropotkin\",\"kalmunai\",\"rundu\",\"anadyr\",\"willowmore\",\"yerbogachen\",\"novyy yarychiv\",\"kota\",\"manakara\",\"maun\",\"hay river\",\"christchurch\",\"khawhai\",\"tanda\",\"mitsamiouli\",\"barra do garcas\",\"nago\",\"rocha\",\"marienburg\",\"buenavista\",\"clyde river\",\"port hardy\",\"atlantic city\",\"abashiri\",\"manono\",\"valleyview\",\"oliveira dos brejinhos\",\"rawatsar\",\"torres\",\"kalabo\",\"roros\",\"carballo\",\"samarai\",\"obo\",\"micomeseng\",\"presidencia roque saenz pena\",\"nishihara\",\"mount pleasant\",\"calama\",\"chateau-gontier\",\"tairua\",\"nava\",\"nanakuli\",\"zaozerne\",\"gamboma\",\"sinj\",\"kurilsk\",\"pimentel\",\"port shepstone\",\"verkhoyansk\",\"boddam\",\"pakxan\",\"buraydah\",\"dukat\",\"la rioja\",\"fukue\",\"pacific grove\",\"katobu\",\"porto belo\",\"kudahuvadhoo\",\"kalikapur\",\"santa rita\",\"guane\",\"miquelon\",\"verkhnyaya inta\",\"xinzhou\",\"grand-santi\",\"baculin\",\"cabedelo\",\"hibbing\",\"kruisfontein\",\"bilibino\",\"samur\",\"yerkoy\",\"tha mai\",\"kenai\",\"parfenyevo\",\"rincon\",\"san cristobal\",\"brewster\",\"baykit\",\"ardalstangen\",\"sarkand\",\"lingdong\",\"koslan\",\"aberdeen\",\"arinos\",\"meyrin\",\"saquena\",\"amarpur\",\"faya\",\"severnoye\",\"zemio\",\"damara\",\"emba\",\"cuauhtemoc\",\"dariba\",\"keta\",\"diamantina\",\"burnie\",\"carutapera\",\"labuan\",\"constantine\",\"el angel\",\"san policarpo\",\"naze\",\"te anau\",\"krutinka\",\"comodoro rivadavia\",\"tilichiki\",\"arvika\",\"nantucket\",\"russell\",\"teguldet\",\"galesong\",\"ust-maya\",\"bure\",\"bhan\",\"san rafael\",\"manokwari\",\"san quintin\",\"vila velha\",\"piney green\",\"marsh harbour\",\"salta\",\"vyritsa\"],\"palette\":[\"#1f77b3\",\"#ff7e0e\",\"#2ba02b\",\"#d62628\",\"#9367bc\",\"#8c564b\",\"#e277c1\",\"#7e7e7e\",\"#bcbc21\",\"#16bdcf\",\"#3a0182\",\"#004201\",\"#0fffa8\",\"#5d003f\",\"#bcbcff\",\"#d8afa1\",\"#b80080\",\"#004d52\",\"#6b6400\",\"#7c0100\",\"#6026ff\",\"#ffff9a\",\"#564964\",\"#8cb893\",\"#93fbff\",\"#018267\",\"#90ff00\",\"#8200a0\",\"#ac8944\",\"#5b3400\",\"#ffbff2\",\"#ff6e75\",\"#798cff\",\"#dd00ff\",\"#505646\",\"#004489\",\"#ffbf60\",\"#ff018c\",\"#bdc8cf\",\"#af97b5\",\"#b65600\",\"#017000\",\"#cd87ff\",\"#1cd646\",\"#bfebc3\",\"#7997b5\",\"#a56089\",\"#6e8956\",\"#bc7c75\",\"#8a2844\",\"#00acff\",\"#8ed4ff\",\"#4b6d77\",\"#00d4b1\",\"#9300f2\",\"#8a9500\",\"#5d5b9e\",\"#fddfba\",\"#00939e\",\"#ffdb00\",\"#00aa79\",\"#520067\",\"#000091\",\"#0a5d3d\",\"#a5e275\",\"#623b41\",\"#c6c689\",\"#ff9eb5\",\"#cd4f6b\",\"#ff07d6\",\"#8a3a05\",\"#7e3d70\",\"#ff4901\",\"#602ba5\",\"#1c00ff\",\"#e6dfff\",\"#aa3baf\",\"#d89c00\",\"#a3a39e\",\"#3f69ff\",\"#46490c\",\"#7b6985\",\"#6b978c\",\"#ff9a75\",\"#835bff\",\"#7c6b46\",\"#80b654\",\"#bc0049\",\"#fd93ff\",\"#5d0018\",\"#89d1d1\",\"#9c8cd3\",\"#da6d42\",\"#8a5700\",\"#3b5069\",\"#4b6b3b\",\"#edcfd8\",\"#cfedff\",\"#aa1500\",\"#dfff4f\",\"#ff2a56\",\"#d1499e\",\"#707cb8\",\"#598000\",\"#00e4fd\",\"#774b95\",\"#67d48c\",\"#3d3a72\",\"#ac413f\",\"#d6a166\",\"#c169cd\",\"#69595d\",\"#87aced\",\"#a0a569\",\"#d1aae6\",\"#870062\",\"#00fddb\",\"#672818\",\"#b342ff\",\"#0e59c4\",\"#168742\",\"#90d300\",\"#cd7900\",\"#f959ff\",\"#5b7466\",\"#8eaeb3\",\"#9c7c8c\",\"#4600c6\",\"#6b4d2d\",\"#a56d46\",\"#9e8972\",\"#a8afca\",\"#cd8ca7\",\"#00fd64\",\"#917900\",\"#ff62a1\",\"#f4ffd8\",\"#018cf0\",\"#13aca0\",\"#5b2d59\",\"#89859e\",\"#cfccba\",\"#d4afc4\",\"#dbdd6d\",\"#cffff4\",\"#006485\",\"#006962\",\"#a84167\",\"#2d97c4\",\"#a874ff\",\"#26ba5d\",\"#57b600\",\"#caffa7\",\"#a379aa\",\"#ffbc93\",\"#89e2c1\",\"#0fc8ff\",\"#d400c4\",\"#626d89\",\"#69858e\",\"#4b4d52\",\"#aa6067\",\"#79b5d4\",\"#2b5916\",\"#9a0024\",\"#bdd1f2\",\"#896e67\",\"#69a56b\",\"#855467\",\"#aecdba\",\"#87997e\",\"#cadb00\",\"#9a0390\",\"#ebbc1a\",\"#eb9cd1\",\"#70006e\",\"#b1a131\",\"#ca6b93\",\"#4146a3\",\"#e48c89\",\"#d44400\",\"#c68aca\",\"#b69597\",\"#d41f75\",\"#724bcc\",\"#674d00\",\"#672138\",\"#38564f\",\"#6ebaaa\",\"#853a31\",\"#a5d397\",\"#b8af8e\",\"#d8e4df\",\"#aa00df\",\"#cac1db\",\"#ffdf8c\",\"#e2524d\",\"#66696e\",\"#ff001c\",\"#522d72\",\"#4d906b\",\"#a86d11\",\"#ff9e26\",\"#5ea3af\",\"#c88556\",\"#915997\",\"#a3a1ff\",\"#fdbaba\",\"#242a87\",\"#dbe6a8\",\"#97f2a7\",\"#6793d6\",\"#ba5b3f\",\"#3a5d91\",\"#364f2f\",\"#267c95\",\"#89959a\",\"#cfb356\",\"#004664\",\"#5e5d2f\",\"#8e8e41\",\"#ac3f13\",\"#69953b\",\"#a13d85\",\"#bfb6ba\",\"#acc667\",\"#6469cf\",\"#91af00\",\"#2be2da\",\"#016e36\",\"#ff7952\",\"#42807e\",\"#4fe800\",\"#995428\",\"#5d0a00\",\"#a30057\",\"#0c8700\",\"#5982a7\",\"#ffebfb\",\"#4b6901\",\"#8775d4\",\"#e6c6ff\",\"#a5ffda\",\"#d86e77\",\"#df014b\",\"#69675b\",\"#776ba1\",\"#7e8067\",\"#594685\",\"#0000ca\",\"#7c002a\",\"#97ff72\",\"#b5e2e1\",\"#db52c8\",\"#777734\",\"#57bd8e\",\"#1f77b3\",\"#ff7e0e\",\"#2ba02b\",\"#d62628\",\"#9367bc\",\"#8c564b\",\"#e277c1\",\"#7e7e7e\",\"#bcbc21\",\"#16bdcf\",\"#3a0182\",\"#004201\",\"#0fffa8\",\"#5d003f\",\"#bcbcff\",\"#d8afa1\",\"#b80080\",\"#004d52\",\"#6b6400\",\"#7c0100\",\"#6026ff\",\"#ffff9a\",\"#564964\",\"#8cb893\",\"#93fbff\",\"#018267\",\"#90ff00\",\"#8200a0\",\"#ac8944\",\"#5b3400\",\"#ffbff2\",\"#ff6e75\",\"#798cff\",\"#dd00ff\",\"#505646\",\"#004489\",\"#ffbf60\",\"#ff018c\",\"#bdc8cf\",\"#af97b5\",\"#b65600\",\"#017000\",\"#cd87ff\",\"#1cd646\",\"#bfebc3\",\"#7997b5\",\"#a56089\",\"#6e8956\",\"#bc7c75\",\"#8a2844\",\"#00acff\",\"#8ed4ff\",\"#4b6d77\",\"#00d4b1\",\"#9300f2\",\"#8a9500\",\"#5d5b9e\",\"#fddfba\",\"#00939e\",\"#ffdb00\",\"#00aa79\",\"#520067\",\"#000091\",\"#0a5d3d\",\"#a5e275\",\"#623b41\",\"#c6c689\",\"#ff9eb5\",\"#cd4f6b\",\"#ff07d6\",\"#8a3a05\",\"#7e3d70\",\"#ff4901\",\"#602ba5\",\"#1c00ff\",\"#e6dfff\",\"#aa3baf\",\"#d89c00\",\"#a3a39e\",\"#3f69ff\",\"#46490c\",\"#7b6985\",\"#6b978c\",\"#ff9a75\",\"#835bff\",\"#7c6b46\",\"#80b654\",\"#bc0049\",\"#fd93ff\",\"#5d0018\",\"#89d1d1\",\"#9c8cd3\",\"#da6d42\",\"#8a5700\",\"#3b5069\",\"#4b6b3b\",\"#edcfd8\",\"#cfedff\",\"#aa1500\",\"#dfff4f\",\"#ff2a56\",\"#d1499e\",\"#707cb8\",\"#598000\",\"#00e4fd\",\"#774b95\",\"#67d48c\",\"#3d3a72\",\"#ac413f\",\"#d6a166\",\"#c169cd\",\"#69595d\",\"#87aced\",\"#a0a569\",\"#d1aae6\",\"#870062\",\"#00fddb\",\"#672818\",\"#b342ff\",\"#0e59c4\",\"#168742\",\"#90d300\",\"#cd7900\",\"#f959ff\",\"#5b7466\",\"#8eaeb3\",\"#9c7c8c\",\"#4600c6\",\"#6b4d2d\",\"#a56d46\",\"#9e8972\",\"#a8afca\",\"#cd8ca7\",\"#00fd64\",\"#917900\",\"#ff62a1\",\"#f4ffd8\",\"#018cf0\",\"#13aca0\",\"#5b2d59\",\"#89859e\",\"#cfccba\",\"#d4afc4\",\"#dbdd6d\",\"#cffff4\",\"#006485\",\"#006962\",\"#a84167\",\"#2d97c4\",\"#a874ff\",\"#26ba5d\",\"#57b600\",\"#caffa7\",\"#a379aa\",\"#ffbc93\",\"#89e2c1\",\"#0fc8ff\",\"#d400c4\",\"#626d89\",\"#69858e\",\"#4b4d52\",\"#aa6067\",\"#79b5d4\",\"#2b5916\",\"#9a0024\",\"#bdd1f2\",\"#896e67\",\"#69a56b\",\"#855467\",\"#aecdba\",\"#87997e\",\"#cadb00\",\"#9a0390\",\"#ebbc1a\",\"#eb9cd1\",\"#70006e\",\"#b1a131\",\"#ca6b93\",\"#4146a3\",\"#e48c89\",\"#d44400\",\"#c68aca\",\"#b69597\",\"#d41f75\",\"#724bcc\",\"#674d00\",\"#672138\",\"#38564f\",\"#6ebaaa\",\"#853a31\",\"#a5d397\",\"#b8af8e\",\"#d8e4df\",\"#aa00df\",\"#cac1db\",\"#ffdf8c\",\"#e2524d\",\"#66696e\",\"#ff001c\",\"#522d72\",\"#4d906b\",\"#a86d11\",\"#ff9e26\",\"#5ea3af\",\"#c88556\",\"#915997\",\"#a3a1ff\",\"#fdbaba\",\"#242a87\",\"#dbe6a8\",\"#97f2a7\",\"#6793d6\",\"#ba5b3f\",\"#3a5d91\",\"#364f2f\",\"#267c95\",\"#89959a\",\"#cfb356\",\"#004664\",\"#5e5d2f\",\"#8e8e41\",\"#ac3f13\",\"#69953b\",\"#a13d85\",\"#bfb6ba\",\"#acc667\",\"#6469cf\",\"#91af00\",\"#2be2da\",\"#016e36\",\"#ff7952\",\"#42807e\",\"#4fe800\",\"#995428\",\"#5d0a00\",\"#a30057\",\"#0c8700\",\"#5982a7\",\"#ffebfb\",\"#4b6901\",\"#8775d4\",\"#e6c6ff\",\"#a5ffda\",\"#d86e77\",\"#df014b\",\"#69675b\",\"#776ba1\",\"#7e8067\",\"#594685\",\"#0000ca\",\"#7c002a\",\"#97ff72\",\"#b5e2e1\",\"#db52c8\",\"#777734\",\"#57bd8e\",\"#1f77b3\",\"#ff7e0e\",\"#2ba02b\",\"#d62628\",\"#9367bc\",\"#8c564b\",\"#e277c1\",\"#7e7e7e\",\"#bcbc21\",\"#16bdcf\",\"#3a0182\",\"#004201\",\"#0fffa8\",\"#5d003f\",\"#bcbcff\",\"#d8afa1\",\"#b80080\",\"#004d52\",\"#6b6400\",\"#7c0100\",\"#6026ff\",\"#ffff9a\",\"#564964\",\"#8cb893\",\"#93fbff\",\"#018267\",\"#90ff00\",\"#8200a0\",\"#ac8944\",\"#5b3400\",\"#ffbff2\",\"#ff6e75\",\"#798cff\",\"#dd00ff\",\"#505646\",\"#004489\",\"#ffbf60\",\"#ff018c\",\"#bdc8cf\",\"#af97b5\",\"#b65600\",\"#017000\",\"#cd87ff\",\"#1cd646\",\"#bfebc3\",\"#7997b5\"]},\"id\":\"1636\",\"type\":\"CategoricalColorMapper\"},{\"attributes\":{\"code\":\"\\n        var projections = Bokeh.require(\\\"core/util/projections\\\");\\n        var x = special_vars.data_x\\n        var y = special_vars.data_y\\n        var coords = projections.wgs84_mercator.invert(x, y)\\n        return \\\"\\\" + (coords[1]).toFixed(4)\\n    \"},\"id\":\"1656\",\"type\":\"CustomJSHover\"},{\"attributes\":{\"axis\":{\"id\":\"1586\"},\"coordinates\":null,\"dimension\":1,\"grid_line_color\":null,\"group\":null,\"ticker\":null},\"id\":\"1589\",\"type\":\"Grid\"},{\"attributes\":{\"fill_alpha\":{\"value\":0.2},\"fill_color\":{\"field\":\"color\",\"transform\":{\"id\":\"1636\"}},\"hatch_alpha\":{\"value\":0.2},\"hatch_color\":{\"field\":\"color\",\"transform\":{\"id\":\"1636\"}},\"line_alpha\":{\"value\":0.2},\"line_color\":{\"field\":\"color\",\"transform\":{\"id\":\"1636\"}},\"size\":{\"field\":\"size\"},\"x\":{\"field\":\"Lng\"},\"y\":{\"field\":\"Lat\"}},\"id\":\"1644\",\"type\":\"Scatter\"},{\"attributes\":{\"code\":\"\\n        var projections = Bokeh.require(\\\"core/util/projections\\\");\\n        var x = special_vars.data_x\\n        var y = special_vars.data_y\\n        var coords = projections.wgs84_mercator.invert(x, y)\\n        return \\\"\\\" + (coords[0]).toFixed(4)\\n    \"},\"id\":\"1655\",\"type\":\"CustomJSHover\"},{\"attributes\":{\"coordinates\":null,\"group\":null,\"level\":\"glyph\",\"tile_source\":{\"id\":\"1631\"}},\"id\":\"1634\",\"type\":\"TileRenderer\"},{\"attributes\":{\"data\":{\"City\":[\"butaritari\",\"cuamba\",\"mount isa\",\"airai\",\"cape town\",\"chuy\",\"olafsvik\",\"new norfolk\",\"cherskiy\",\"namibe\",\"hobyo\",\"astoria\",\"ilulissat\",\"saint-philippe\",\"puerto cabezas\",\"mataura\",\"ushuaia\",\"contai\",\"punta arenas\",\"port blair\",\"gao\",\"victoria\",\"alofi\",\"dangtu\",\"roald\",\"bengkulu\",\"meulaboh\",\"west bay\",\"maceio\",\"mar del plata\",\"vaini\",\"avarua\",\"saldanha\",\"dikson\",\"mamallapuram\",\"karlskrona\",\"busselton\",\"broken hill\",\"deputatskiy\",\"severo-kurilsk\",\"saskylakh\",\"codrington\",\"aranos\",\"rikitea\",\"hobart\",\"nizhneudinsk\",\"jamestown\",\"albany\",\"taoudenni\",\"zhezkazgan\",\"zelenets\",\"tuktoyaktuk\",\"karratha\",\"tasiilaq\",\"port alfred\",\"vao\",\"hermanus\",\"yellowknife\",\"road town\",\"san carlos de bariloche\",\"kodiak\",\"alyangula\",\"hithadhoo\",\"zhigansk\",\"gifhorn\",\"norman wells\",\"kapaa\",\"necochea\",\"puerto ayora\",\"nikolskoye\",\"nome\",\"half moon bay\",\"bredasdorp\",\"geraldton\",\"pozo colorado\",\"guadalupe y calvo\",\"santa cruz cabralia\",\"panaba\",\"lesogorsk\",\"mount gambier\",\"khatanga\",\"fort nelson\",\"barrow\",\"longyearbyen\",\"port elizabeth\",\"hami\",\"sinazongwe\",\"upernavik\",\"salalah\",\"carnarvon\",\"gallup\",\"narsaq\",\"rio gallegos\",\"fukuma\",\"saint george\",\"adrar\",\"miri\",\"hilo\",\"warrington\",\"ponta do sol\",\"nanortalik\",\"bowen\",\"atuona\",\"ajdabiya\",\"angoche\",\"port hedland\",\"pitimbu\",\"sao joao da barra\",\"sao filipe\",\"chokurdakh\",\"iralaya\",\"arica\",\"lompoc\",\"port lincoln\",\"sitka\",\"massakory\",\"egvekinot\",\"bluff\",\"qaqortoq\",\"santa marta\",\"kaitangata\",\"ribeira grande\",\"simbahan\",\"bay roberts\",\"east london\",\"lhokseumawe\",\"petropavlovsk-kamchatskiy\",\"porosozero\",\"puerto colombia\",\"tuatapere\",\"bani\",\"sungaipenuh\",\"khuchni\",\"ashcroft\",\"khandbari\",\"faanui\",\"luderitz\",\"tortosa\",\"pangnirtung\",\"nelson bay\",\"palmeirais\",\"taltal\",\"lebu\",\"lahaina\",\"olga\",\"fairbanks\",\"arraial do cabo\",\"quatre cocos\",\"katsuura\",\"moose factory\",\"provideniya\",\"fuerte olimpo\",\"kavieng\",\"gamba\",\"ginir\",\"thaba nchu\",\"solnechnyy\",\"puerto maldonado\",\"yar-sale\",\"klaksvik\",\"qaanaaq\",\"chicama\",\"rumoi\",\"saint-pierre\",\"bolshoye selo\",\"progreso\",\"vardo\",\"san patricio\",\"tazmalt\",\"burhanpur\",\"lagoa\",\"ostrovnoy\",\"parambu\",\"tessalit\",\"pevek\",\"kostomuksha\",\"lac du bonnet\",\"hasaki\",\"oranjemund\",\"shache\",\"tiksi\",\"isangel\",\"springdale\",\"honiara\",\"indiaroba\",\"cap malheureux\",\"gouyave\",\"kieta\",\"castro\",\"nicoya\",\"raudeberg\",\"torbay\",\"kampot\",\"puerto gaitan\",\"bubaque\",\"auki\",\"pisco\",\"kumluca\",\"letlhakane\",\"yaan\",\"great falls\",\"harper\",\"hulan\",\"bathsheba\",\"dvinskoy\",\"kempten\",\"havoysund\",\"kolondieba\",\"dongli\",\"eureka\",\"tazovskiy\",\"pandan\",\"hambantota\",\"paamiut\",\"southwick\",\"alta floresta\",\"mayya\",\"hualmay\",\"mimongo\",\"neiafu\",\"inuvik\",\"morondava\",\"staunton\",\"billings\",\"sibu\",\"amahai\",\"glenwood springs\",\"la ronge\",\"guangyuan\",\"vila franca do campo\",\"cartagena\",\"senneterre\",\"tevaitoa\",\"mackay\",\"ahipara\",\"viesca\",\"treuchtlingen\",\"henties bay\",\"marang\",\"masty\",\"kuhdasht\",\"seoul\",\"la mira\",\"bireun\",\"sorland\",\"planaltina\",\"traverse city\",\"aripuana\",\"yabelo\",\"cabo san lucas\",\"turka\",\"georgetown\",\"grave\",\"pryozerne\",\"komsomolskiy\",\"pailon\",\"borba\",\"rolla\",\"port-cartier\",\"nizhniy kuranakh\",\"waingapu\",\"iqaluit\",\"inverell\",\"cockburn town\",\"bethel\",\"juba\",\"hadejia\",\"dingle\",\"villarrica\",\"artyom\",\"cidreira\",\"bandarbeyla\",\"kibre mengist\",\"udachnyy\",\"kavaratti\",\"edd\",\"mahebourg\",\"sibolga\",\"farafangana\",\"atar\",\"abu samrah\",\"sinop\",\"laguna de perlas\",\"biak\",\"hamilton\",\"vanimo\",\"baihar\",\"flinders\",\"ancud\",\"kunszentmarton\",\"sabha\",\"luanda\",\"durban\",\"gladstone\",\"ambilobe\",\"amapa\",\"yurty\",\"benjamin hill\",\"coihaique\",\"sebinkarahisar\",\"jinchang\",\"avenal\",\"zeya\",\"aykhal\",\"vostok\",\"bethanien\",\"aktau\",\"chilliwack\",\"leningradskiy\",\"ossora\",\"port macquarie\",\"promyshlennyy\",\"saint-leu\",\"lorengau\",\"altay\",\"esperance\",\"thinadhoo\",\"kirakira\",\"hanna\",\"turki\",\"santa cruz\",\"gornopravdinsk\",\"ler\",\"nenagh\",\"manyana\",\"grindavik\",\"kassala\",\"goure\",\"talnakh\",\"the valley\",\"lufilufi\",\"ahuimanu\",\"finnsnes\",\"nizhniy ufaley\",\"kidal\",\"sulechow\",\"ewa beach\",\"souillac\",\"konevo\",\"karata\",\"touros\",\"nortelandia\",\"coquimbo\",\"belyy yar\",\"sola\",\"robe\",\"jibuti\",\"manicore\",\"salo\",\"okhotsk\",\"poum\",\"kailua\",\"takoradi\",\"loralai\",\"tuim\",\"haines junction\",\"tezu\",\"podgorica\",\"prado\",\"punta\",\"beroroha\",\"mbanza-ngungu\",\"severo-yeniseyskiy\",\"shelburne\",\"elko\",\"san juan del sur\",\"sobolevo\",\"taguatinga\",\"teya\",\"maniitsoq\",\"bambous virieux\",\"turayf\",\"krasnoarmeysk\",\"otjimbingwe\",\"lasa\",\"pontes e lacerda\",\"plesetsk\",\"mollendo\",\"perez\",\"bonavista\",\"santa luzia\",\"dwarka\",\"avera\",\"luganville\",\"rumphi\",\"gat\",\"srednekolymsk\",\"ferrol\",\"port-gentil\",\"sistranda\",\"yulara\",\"port moresby\",\"novobiryusinskiy\",\"batsfjord\",\"kaeo\",\"claveria\",\"manado\",\"asau\",\"beloha\",\"nhulunbuy\",\"kyren\",\"caravelas\",\"esfarayen\",\"saint anthony\",\"masallatah\",\"ketchikan\",\"bentiu\",\"killybegs\",\"keti bandar\",\"dingli\",\"atambua\",\"victor harbor\",\"oistins\",\"saint-augustin\",\"college\",\"sarangani\",\"innisfail\",\"isernia\",\"lubango\",\"baie-comeau\",\"bixby\",\"falakata\",\"thompson\",\"luba\",\"isla mujeres\",\"llangefni\",\"jiuquan\",\"linjiang\",\"mishelevka\",\"prince albert\",\"piraquara\",\"panjab\",\"kropotkin\",\"kalmunai\",\"rundu\",\"anadyr\",\"willowmore\",\"yerbogachen\",\"novyy yarychiv\",\"kota\",\"manakara\",\"maun\",\"hay river\",\"christchurch\",\"khawhai\",\"tanda\",\"mitsamiouli\",\"barra do garcas\",\"nago\",\"rocha\",\"marienburg\",\"buenavista\",\"clyde river\",\"port hardy\",\"atlantic city\",\"abashiri\",\"manono\",\"valleyview\",\"oliveira dos brejinhos\",\"rawatsar\",\"torres\",\"kalabo\",\"roros\",\"carballo\",\"samarai\",\"obo\",\"micomeseng\",\"presidencia roque saenz pena\",\"nishihara\",\"mount pleasant\",\"calama\",\"chateau-gontier\",\"tairua\",\"nava\",\"nanakuli\",\"zaozerne\",\"gamboma\",\"sinj\",\"kurilsk\",\"pimentel\",\"port shepstone\",\"verkhoyansk\",\"boddam\",\"pakxan\",\"buraydah\",\"dukat\",\"la rioja\",\"fukue\",\"pacific grove\",\"katobu\",\"porto belo\",\"kudahuvadhoo\",\"kalikapur\",\"santa rita\",\"guane\",\"miquelon\",\"verkhnyaya inta\",\"xinzhou\",\"grand-santi\",\"baculin\",\"cabedelo\",\"hibbing\",\"kruisfontein\",\"bilibino\",\"samur\",\"yerkoy\",\"tha mai\",\"kenai\",\"parfenyevo\",\"rincon\",\"san cristobal\",\"brewster\",\"baykit\",\"ardalstangen\",\"sarkand\",\"lingdong\",\"koslan\",\"aberdeen\",\"arinos\",\"meyrin\",\"saquena\",\"amarpur\",\"faya\",\"severnoye\",\"zemio\",\"damara\",\"emba\",\"cuauhtemoc\",\"dariba\",\"keta\",\"diamantina\",\"burnie\",\"carutapera\",\"labuan\",\"constantine\",\"el angel\",\"san policarpo\",\"naze\",\"te anau\",\"krutinka\",\"comodoro rivadavia\",\"tilichiki\",\"arvika\",\"nantucket\",\"russell\",\"teguldet\",\"galesong\",\"ust-maya\",\"bure\",\"bhan\",\"san rafael\",\"manokwari\",\"san quintin\",\"vila velha\",\"piney green\",\"marsh harbour\",\"salta\",\"vyritsa\"],\"Humidity\":[79,74,100,97,37,79,74,88,100,80,60,84,62,80,89,99,71,27,71,74,5,60,100,38,86,86,84,85,100,98,89,88,60,96,72,79,55,33,99,62,100,74,29,74,76,96,93,83,12,67,91,100,59,89,84,75,52,74,71,40,93,78,78,95,81,76,94,59,92,88,100,40,43,69,97,94,100,96,100,71,100,92,77,67,77,26,62,92,57,72,93,93,40,56,45,11,69,94,79,45,85,77,80,41,66,70,64,82,69,95,85,73,76,73,93,9,97,94,89,73,98,72,83,97,73,88,62,93,81,94,73,96,81,96,34,77,63,40,96,84,70,80,65,87,88,86,69,68,66,69,89,95,73,64,27,31,98,97,100,88,42,74,72,62,89,93,93,86,61,29,67,95,68,8,94,93,100,46,60,56,98,82,90,78,73,83,83,84,95,80,68,96,57,61,40,82,88,44,38,37,67,69,95,73,91,73,66,7,48,91,100,87,89,84,76,96,100,85,48,75,69,72,79,54,78,79,74,76,38,68,88,100,78,81,96,60,83,73,85,91,97,70,89,89,68,86,79,99,31,78,88,64,87,66,39,89,100,70,95,96,79,69,89,72,82,18,8,90,92,81,74,61,21,100,72,40,74,89,85,18,73,98,88,82,88,88,23,79,67,59,22,66,78,69,75,98,99,63,93,47,26,65,100,100,98,12,41,78,95,96,85,86,78,75,65,81,74,82,92,99,94,94,7,77,35,69,13,7,95,74,73,89,97,82,6,67,85,74,93,41,64,91,88,76,72,65,43,99,39,96,75,89,64,24,95,97,27,29,84,92,52,66,96,87,80,86,98,68,95,88,74,40,91,31,47,96,93,94,71,79,83,32,97,86,53,100,96,77,74,72,24,85,100,93,93,80,89,77,52,79,84,82,86,78,64,100,7,70,22,58,93,69,73,97,86,82,91,53,85,85,66,31,75,81,76,71,37,98,99,76,85,89,58,93,44,92,35,100,81,34,85,48,76,88,30,46,74,93,62,83,76,93,76,81,94,79,59,85,67,33,76,77,79,78,79,10,49,79,60,99,76,84,97,81,80,77,37,45,63,88,80,99,65,33,34,97,72,81,55,87,87,72,19,78,95,71,82,23,99,88,64,69,46,95,93,87,54,95,92,93,91,89,100,94,86,93,94,68,81,69,91,33,36,97,13,21,81,50,29,67,84,62,93,83,81,90,87,57,91,93,51,99,64,93,100,97,84,97,18,20,48,80,77,87,100,74,94,86],\"Lat\":{\"__ndarray__\":\"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\",\"dtype\":\"float64\",\"order\":\"little\",\"shape\":[558]},\"Lng\":{\"__ndarray__\":\"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\",\"dtype\":\"float64\",\"order\":\"little\",\"shape\":[558]},\"color\":[\"butaritari\",\"cuamba\",\"mount isa\",\"airai\",\"cape town\",\"chuy\",\"olafsvik\",\"new norfolk\",\"cherskiy\",\"namibe\",\"hobyo\",\"astoria\",\"ilulissat\",\"saint-philippe\",\"puerto cabezas\",\"mataura\",\"ushuaia\",\"contai\",\"punta arenas\",\"port blair\",\"gao\",\"victoria\",\"alofi\",\"dangtu\",\"roald\",\"bengkulu\",\"meulaboh\",\"west bay\",\"maceio\",\"mar del plata\",\"vaini\",\"avarua\",\"saldanha\",\"dikson\",\"mamallapuram\",\"karlskrona\",\"busselton\",\"broken hill\",\"deputatskiy\",\"severo-kurilsk\",\"saskylakh\",\"codrington\",\"aranos\",\"rikitea\",\"hobart\",\"nizhneudinsk\",\"jamestown\",\"albany\",\"taoudenni\",\"zhezkazgan\",\"zelenets\",\"tuktoyaktuk\",\"karratha\",\"tasiilaq\",\"port alfred\",\"vao\",\"hermanus\",\"yellowknife\",\"road town\",\"san carlos de bariloche\",\"kodiak\",\"alyangula\",\"hithadhoo\",\"zhigansk\",\"gifhorn\",\"norman wells\",\"kapaa\",\"necochea\",\"puerto ayora\",\"nikolskoye\",\"nome\",\"half moon bay\",\"bredasdorp\",\"geraldton\",\"pozo colorado\",\"guadalupe y calvo\",\"santa cruz cabralia\",\"panaba\",\"lesogorsk\",\"mount gambier\",\"khatanga\",\"fort nelson\",\"barrow\",\"longyearbyen\",\"port elizabeth\",\"hami\",\"sinazongwe\",\"upernavik\",\"salalah\",\"carnarvon\",\"gallup\",\"narsaq\",\"rio gallegos\",\"fukuma\",\"saint george\",\"adrar\",\"miri\",\"hilo\",\"warrington\",\"ponta do sol\",\"nanortalik\",\"bowen\",\"atuona\",\"ajdabiya\",\"angoche\",\"port hedland\",\"pitimbu\",\"sao joao da barra\",\"sao filipe\",\"chokurdakh\",\"iralaya\",\"arica\",\"lompoc\",\"port lincoln\",\"sitka\",\"massakory\",\"egvekinot\",\"bluff\",\"qaqortoq\",\"santa marta\",\"kaitangata\",\"ribeira grande\",\"simbahan\",\"bay roberts\",\"east london\",\"lhokseumawe\",\"petropavlovsk-kamchatskiy\",\"porosozero\",\"puerto colombia\",\"tuatapere\",\"bani\",\"sungaipenuh\",\"khuchni\",\"ashcroft\",\"khandbari\",\"faanui\",\"luderitz\",\"tortosa\",\"pangnirtung\",\"nelson bay\",\"palmeirais\",\"taltal\",\"lebu\",\"lahaina\",\"olga\",\"fairbanks\",\"arraial do cabo\",\"quatre cocos\",\"katsuura\",\"moose factory\",\"provideniya\",\"fuerte olimpo\",\"kavieng\",\"gamba\",\"ginir\",\"thaba nchu\",\"solnechnyy\",\"puerto maldonado\",\"yar-sale\",\"klaksvik\",\"qaanaaq\",\"chicama\",\"rumoi\",\"saint-pierre\",\"bolshoye selo\",\"progreso\",\"vardo\",\"san patricio\",\"tazmalt\",\"burhanpur\",\"lagoa\",\"ostrovnoy\",\"parambu\",\"tessalit\",\"pevek\",\"kostomuksha\",\"lac du bonnet\",\"hasaki\",\"oranjemund\",\"shache\",\"tiksi\",\"isangel\",\"springdale\",\"honiara\",\"indiaroba\",\"cap malheureux\",\"gouyave\",\"kieta\",\"castro\",\"nicoya\",\"raudeberg\",\"torbay\",\"kampot\",\"puerto gaitan\",\"bubaque\",\"auki\",\"pisco\",\"kumluca\",\"letlhakane\",\"yaan\",\"great falls\",\"harper\",\"hulan\",\"bathsheba\",\"dvinskoy\",\"kempten\",\"havoysund\",\"kolondieba\",\"dongli\",\"eureka\",\"tazovskiy\",\"pandan\",\"hambantota\",\"paamiut\",\"southwick\",\"alta floresta\",\"mayya\",\"hualmay\",\"mimongo\",\"neiafu\",\"inuvik\",\"morondava\",\"staunton\",\"billings\",\"sibu\",\"amahai\",\"glenwood springs\",\"la ronge\",\"guangyuan\",\"vila franca do campo\",\"cartagena\",\"senneterre\",\"tevaitoa\",\"mackay\",\"ahipara\",\"viesca\",\"treuchtlingen\",\"henties bay\",\"marang\",\"masty\",\"kuhdasht\",\"seoul\",\"la mira\",\"bireun\",\"sorland\",\"planaltina\",\"traverse city\",\"aripuana\",\"yabelo\",\"cabo san lucas\",\"turka\",\"georgetown\",\"grave\",\"pryozerne\",\"komsomolskiy\",\"pailon\",\"borba\",\"rolla\",\"port-cartier\",\"nizhniy kuranakh\",\"waingapu\",\"iqaluit\",\"inverell\",\"cockburn town\",\"bethel\",\"juba\",\"hadejia\",\"dingle\",\"villarrica\",\"artyom\",\"cidreira\",\"bandarbeyla\",\"kibre mengist\",\"udachnyy\",\"kavaratti\",\"edd\",\"mahebourg\",\"sibolga\",\"farafangana\",\"atar\",\"abu samrah\",\"sinop\",\"laguna de perlas\",\"biak\",\"hamilton\",\"vanimo\",\"baihar\",\"flinders\",\"ancud\",\"kunszentmarton\",\"sabha\",\"luanda\",\"durban\",\"gladstone\",\"ambilobe\",\"amapa\",\"yurty\",\"benjamin hill\",\"coihaique\",\"sebinkarahisar\",\"jinchang\",\"avenal\",\"zeya\",\"aykhal\",\"vostok\",\"bethanien\",\"aktau\",\"chilliwack\",\"leningradskiy\",\"ossora\",\"port macquarie\",\"promyshlennyy\",\"saint-leu\",\"lorengau\",\"altay\",\"esperance\",\"thinadhoo\",\"kirakira\",\"hanna\",\"turki\",\"santa cruz\",\"gornopravdinsk\",\"ler\",\"nenagh\",\"manyana\",\"grindavik\",\"kassala\",\"goure\",\"talnakh\",\"the valley\",\"lufilufi\",\"ahuimanu\",\"finnsnes\",\"nizhniy ufaley\",\"kidal\",\"sulechow\",\"ewa beach\",\"souillac\",\"konevo\",\"karata\",\"touros\",\"nortelandia\",\"coquimbo\",\"belyy yar\",\"sola\",\"robe\",\"jibuti\",\"manicore\",\"salo\",\"okhotsk\",\"poum\",\"kailua\",\"takoradi\",\"loralai\",\"tuim\",\"haines junction\",\"tezu\",\"podgorica\",\"prado\",\"punta\",\"beroroha\",\"mbanza-ngungu\",\"severo-yeniseyskiy\",\"shelburne\",\"elko\",\"san juan del sur\",\"sobolevo\",\"taguatinga\",\"teya\",\"maniitsoq\",\"bambous virieux\",\"turayf\",\"krasnoarmeysk\",\"otjimbingwe\",\"lasa\",\"pontes e lacerda\",\"plesetsk\",\"mollendo\",\"perez\",\"bonavista\",\"santa luzia\",\"dwarka\",\"avera\",\"luganville\",\"rumphi\",\"gat\",\"srednekolymsk\",\"ferrol\",\"port-gentil\",\"sistranda\",\"yulara\",\"port moresby\",\"novobiryusinskiy\",\"batsfjord\",\"kaeo\",\"claveria\",\"manado\",\"asau\",\"beloha\",\"nhulunbuy\",\"kyren\",\"caravelas\",\"esfarayen\",\"saint anthony\",\"masallatah\",\"ketchikan\",\"bentiu\",\"killybegs\",\"keti bandar\",\"dingli\",\"atambua\",\"victor harbor\",\"oistins\",\"saint-augustin\",\"college\",\"sarangani\",\"innisfail\",\"isernia\",\"lubango\",\"baie-comeau\",\"bixby\",\"falakata\",\"thompson\",\"luba\",\"isla mujeres\",\"llangefni\",\"jiuquan\",\"linjiang\",\"mishelevka\",\"prince albert\",\"piraquara\",\"panjab\",\"kropotkin\",\"kalmunai\",\"rundu\",\"anadyr\",\"willowmore\",\"yerbogachen\",\"novyy yarychiv\",\"kota\",\"manakara\",\"maun\",\"hay river\",\"christchurch\",\"khawhai\",\"tanda\",\"mitsamiouli\",\"barra do garcas\",\"nago\",\"rocha\",\"marienburg\",\"buenavista\",\"clyde river\",\"port hardy\",\"atlantic city\",\"abashiri\",\"manono\",\"valleyview\",\"oliveira dos brejinhos\",\"rawatsar\",\"torres\",\"kalabo\",\"roros\",\"carballo\",\"samarai\",\"obo\",\"micomeseng\",\"presidencia roque saenz pena\",\"nishihara\",\"mount pleasant\",\"calama\",\"chateau-gontier\",\"tairua\",\"nava\",\"nanakuli\",\"zaozerne\",\"gamboma\",\"sinj\",\"kurilsk\",\"pimentel\",\"port shepstone\",\"verkhoyansk\",\"boddam\",\"pakxan\",\"buraydah\",\"dukat\",\"la rioja\",\"fukue\",\"pacific grove\",\"katobu\",\"porto belo\",\"kudahuvadhoo\",\"kalikapur\",\"santa rita\",\"guane\",\"miquelon\",\"verkhnyaya inta\",\"xinzhou\",\"grand-santi\",\"baculin\",\"cabedelo\",\"hibbing\",\"kruisfontein\",\"bilibino\",\"samur\",\"yerkoy\",\"tha mai\",\"kenai\",\"parfenyevo\",\"rincon\",\"san cristobal\",\"brewster\",\"baykit\",\"ardalstangen\",\"sarkand\",\"lingdong\",\"koslan\",\"aberdeen\",\"arinos\",\"meyrin\",\"saquena\",\"amarpur\",\"faya\",\"severnoye\",\"zemio\",\"damara\",\"emba\",\"cuauhtemoc\",\"dariba\",\"keta\",\"diamantina\",\"burnie\",\"carutapera\",\"labuan\",\"constantine\",\"el angel\",\"san policarpo\",\"naze\",\"te anau\",\"krutinka\",\"comodoro rivadavia\",\"tilichiki\",\"arvika\",\"nantucket\",\"russell\",\"teguldet\",\"galesong\",\"ust-maya\",\"bure\",\"bhan\",\"san rafael\",\"manokwari\",\"san quintin\",\"vila velha\",\"piney green\",\"marsh harbour\",\"salta\",\"vyritsa\"],\"size\":{\"__ndarray__\":\"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\",\"dtype\":\"float64\",\"order\":\"little\",\"shape\":[558]}},\"selected\":{\"id\":\"1638\"},\"selection_policy\":{\"id\":\"1650\"}},\"id\":\"1637\",\"type\":\"ColumnDataSource\"},{\"attributes\":{\"children\":[{\"id\":\"1561\"},{\"id\":\"1573\"},{\"id\":\"1667\"}],\"margin\":[0,0,0,0],\"name\":\"Row02127\",\"tags\":[\"embedded\"]},\"id\":\"1560\",\"type\":\"Row\"},{\"attributes\":{\"callback\":null,\"formatters\":{\"$x\":{\"id\":\"1655\"},\"$y\":{\"id\":\"1656\"}},\"renderers\":[{\"id\":\"1645\"}],\"tags\":[\"hv_created\"],\"tooltips\":[[\"Lng\",\"$x{custom}\"],[\"Lat\",\"$y{custom}\"],[\"City\",\"@{City}\"],[\"Humidity\",\"@{Humidity}\"]]},\"id\":\"1570\",\"type\":\"HoverTool\"},{\"attributes\":{\"dimension\":\"lon\"},\"id\":\"1605\",\"type\":\"MercatorTicker\"},{\"attributes\":{},\"id\":\"1611\",\"type\":\"AllLabels\"},{\"attributes\":{\"fill_color\":{\"field\":\"color\",\"transform\":{\"id\":\"1636\"}},\"hatch_color\":{\"field\":\"color\",\"transform\":{\"id\":\"1636\"}},\"line_color\":{\"field\":\"color\",\"transform\":{\"id\":\"1636\"}},\"size\":{\"field\":\"size\"},\"x\":{\"field\":\"Lng\"},\"y\":{\"field\":\"Lat\"}},\"id\":\"1642\",\"type\":\"Scatter\"},{\"attributes\":{\"coordinates\":null,\"data_source\":{\"id\":\"1637\"},\"glyph\":{\"id\":\"1640\"},\"group\":null,\"hover_glyph\":{\"id\":\"1643\"},\"muted_glyph\":{\"id\":\"1644\"},\"nonselection_glyph\":{\"id\":\"1641\"},\"selection_glyph\":{\"id\":\"1642\"},\"view\":{\"id\":\"1646\"}},\"id\":\"1645\",\"type\":\"GlyphRenderer\"}],\"root_ids\":[\"1560\"]},\"title\":\"Bokeh Application\",\"version\":\"2.4.3\"}};\n",
       "    var render_items = [{\"docid\":\"b61c814b-0d61-42bf-ba52-291c9aa04bd7\",\"root_ids\":[\"1560\"],\"roots\":{\"1560\":\"c47fdd76-0a10-443d-9f62-0613419e80c5\"}}];\n",
       "    root.Bokeh.embed.embed_items_notebook(docs_json, render_items);\n",
       "    for (const render_item of render_items) {\n",
       "      for (const root_id of render_item.root_ids) {\n",
       "\tconst id_el = document.getElementById(root_id)\n",
       "\tif (id_el.children.length && (id_el.children[0].className === 'bk-root')) {\n",
       "\t  const root_el = id_el.children[0]\n",
       "\t  root_el.id = root_el.id + '-rendered'\n",
       "\t}\n",
       "      }\n",
       "    }\n",
       "  }\n",
       "  if (root.Bokeh !== undefined && root.Bokeh.Panel !== undefined) {\n",
       "    embed_document(root);\n",
       "  } else {\n",
       "    var attempts = 0;\n",
       "    var timer = setInterval(function(root) {\n",
       "      if (root.Bokeh !== undefined && root.Bokeh.Panel !== undefined) {\n",
       "        clearInterval(timer);\n",
       "        embed_document(root);\n",
       "      } else if (document.readyState == \"complete\") {\n",
       "        attempts++;\n",
       "        if (attempts > 200) {\n",
       "          clearInterval(timer);\n",
       "          console.log(\"Bokeh: ERROR: Unable to run BokehJS code because BokehJS library is missing\");\n",
       "        }\n",
       "      }\n",
       "    }, 25, root)\n",
       "  }\n",
       "})(window);</script>"
      ],
      "text/plain": [
       ":Overlay\n",
       "   .Tiles.I  :Tiles   [x,y]\n",
       "   .Points.I :Points   [Lng,Lat]   (City,Humidity)"
      ]
     },
     "execution_count": 12,
     "metadata": {
      "application/vnd.holoviews_exec.v0+json": {
       "id": "1560"
      }
     },
     "output_type": "execute_result"
    }
   ],
   "source": [
    "#%%capture --no-display\n",
    "\n",
    "# Configure the map plot\n",
    "map_plot = city_data_df.hvplot.points(\n",
    "    \"Lng\",\n",
    "    \"Lat\",\n",
    "    geo = True,\n",
    "    tiles = \"OSM\",\n",
    "    frame_width = 700,\n",
    "    frame_height = 500,\n",
    "    size = \"Humidity\",\n",
    "    color = \"City\"\n",
    ")\n",
    "\n",
    "# Display the map\n",
    "map_plot"
   ]
  },
  {
   "cell_type": "markdown",
   "metadata": {},
   "source": [
    "### Step 2: Narrow down the `city_data_df` DataFrame to find your ideal weather condition"
   ]
  },
  {
   "cell_type": "code",
   "execution_count": null,
   "metadata": {},
   "outputs": [],
   "source": [
    "# Narrow down cities that fit criteria and drop any results with null values\n",
    "# YOUR CODE HERE\n",
    "\n",
    "# Drop any rows with null values\n",
    "# YOUR CODE HERE\n",
    "\n",
    "# Display sample data\n",
    "# YOUR CODE HERE"
   ]
  },
  {
   "cell_type": "markdown",
   "metadata": {},
   "source": [
    "### Step 3: Create a new DataFrame called `hotel_df`."
   ]
  },
  {
   "cell_type": "code",
   "execution_count": null,
   "metadata": {},
   "outputs": [],
   "source": [
    "# Use the Pandas copy function to create DataFrame called hotel_df to store the city, country, coordinates, and humidity\n",
    "# YOUR CODE HERE\n",
    "\n",
    "# Add an empty column, \"Hotel Name,\" to the DataFrame so you can store the hotel found using the Geoapify API\n",
    "# YOUR CODE HERE\n",
    "\n",
    "# Display sample data\n",
    "# YOUR CODE HERE"
   ]
  },
  {
   "cell_type": "markdown",
   "metadata": {},
   "source": [
    "### Step 4: For each city, use the Geoapify API to find the first hotel located within 10,000 metres of your coordinates."
   ]
  },
  {
   "cell_type": "code",
   "execution_count": null,
   "metadata": {},
   "outputs": [],
   "source": [
    "# Set parameters to search for a hotel\n",
    "radius = # YOUR CODE HERE\n",
    "params = {\n",
    "    # YOUR CODE HERE\n",
    "}\n",
    "\n",
    "# Print a message to follow up the hotel search\n",
    "print(\"Starting hotel search\")\n",
    "\n",
    "# Iterate through the hotel_df DataFrame\n",
    "for index, row in hotel_df.iterrows():\n",
    "    # get latitude, longitude from the DataFrame\n",
    "    # YOUR CODE HERE\n",
    "    \n",
    "    # Add filter and bias parameters with the current city's latitude and longitude to the params dictionary\n",
    "    params[\"filter\"] = # YOUR CODE HERE\n",
    "    params[\"bias\"] = # YOUR CODE HERE\n",
    "    \n",
    "    # Set base URL\n",
    "    base_url = \"https://api.geoapify.com/v2/places\"\n",
    "\n",
    "\n",
    "    # Make and API request using the params dictionaty\n",
    "    name_address = # YOUR CODE HERE\n",
    "    \n",
    "    # Convert the API response to JSON format\n",
    "    name_address = # YOUR CODE HERE\n",
    "    \n",
    "    # Grab the first hotel from the results and store the name in the hotel_df DataFrame\n",
    "    try:\n",
    "        hotel_df.loc[index, \"Hotel Name\"] = name_address[\"features\"][0][\"properties\"][\"name\"]\n",
    "    except (KeyError, IndexError):\n",
    "        # If no hotel is found, set the hotel name as \"No hotel found\".\n",
    "        hotel_df.loc[index, \"Hotel Name\"] = \"No hotel found\"\n",
    "        \n",
    "    # Log the search results\n",
    "    print(f\"{hotel_df.loc[index, 'City']} - nearest hotel: {hotel_df.loc[index, 'Hotel Name']}\")\n",
    "\n",
    "# Display sample data\n",
    "hotel_df"
   ]
  },
  {
   "cell_type": "markdown",
   "metadata": {},
   "source": [
    "### Step 5: Add the hotel name and the country as additional information in the hover message for each city in the map."
   ]
  },
  {
   "cell_type": "code",
   "execution_count": null,
   "metadata": {},
   "outputs": [],
   "source": [
    "%%capture --no-display\n",
    "\n",
    "# Configure the map plot\n",
    "# YOUR CODE HERE\n",
    "\n",
    "# Display the map\n",
    "# YOUR CODE HERE"
   ]
  },
  {
   "cell_type": "code",
   "execution_count": null,
   "metadata": {},
   "outputs": [],
   "source": []
  }
 ],
 "metadata": {
  "kernelspec": {
   "display_name": "PythonData",
   "language": "python",
   "name": "python3"
  },
  "language_info": {
   "codemirror_mode": {
    "name": "ipython",
    "version": 3
   },
   "file_extension": ".py",
   "mimetype": "text/x-python",
   "name": "python",
   "nbconvert_exporter": "python",
   "pygments_lexer": "ipython3",
   "version": "3.7.7"
  },
  "latex_envs": {
   "LaTeX_envs_menu_present": true,
   "autoclose": false,
   "autocomplete": true,
   "bibliofile": "biblio.bib",
   "cite_by": "apalike",
   "current_citInitial": 1,
   "eqLabelWithNumbers": true,
   "eqNumInitial": 1,
   "hotkeys": {
    "equation": "Ctrl-E",
    "itemize": "Ctrl-I"
   },
   "labels_anchors": false,
   "latex_user_defs": false,
   "report_style_numbering": false,
   "user_envs_cfg": false
  },
  "vscode": {
   "interpreter": {
    "hash": "e93cccf8913179910ea909575c019996157444be943d3f2b693932ac33ba98a7"
   }
  }
 },
 "nbformat": 4,
 "nbformat_minor": 4
}
